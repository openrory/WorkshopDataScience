{
 "cells": [
  {
   "cell_type": "markdown",
   "metadata": {
    "collapsed": true
   },
   "source": [
    "# Machine Learning: K-means clustering met de iris dataset "
   ]
  },
  {
   "cell_type": "markdown",
   "metadata": {
    "collapsed": true
   },
   "source": [
    "We gaan eerst de scikit-learn en de dataset importeren\n"
   ]
  },
  {
   "cell_type": "code",
   "execution_count": 21,
   "metadata": {},
   "outputs": [],
   "source": [
    "from sklearn.cluster import KMeans\n",
    "from sklearn import datasets"
   ]
  },
  {
   "cell_type": "markdown",
   "metadata": {},
   "source": [
    "laad de dataset"
   ]
  },
  {
   "cell_type": "code",
   "execution_count": 22,
   "metadata": {},
   "outputs": [],
   "source": [
    "iris = datasets.load_iris()"
   ]
  },
  {
   "cell_type": "markdown",
   "metadata": {},
   "source": [
    "Zet eerst het K-means algoritme klaar "
   ]
  },
  {
   "cell_type": "code",
   "execution_count": 23,
   "metadata": {},
   "outputs": [],
   "source": [
    "k_means = KMeans(n_clusters=3)"
   ]
  },
  {
   "cell_type": "markdown",
   "metadata": {},
   "source": [
    "Run nu het algoritme over de dataset "
   ]
  },
  {
   "cell_type": "code",
   "execution_count": 24,
   "metadata": {},
   "outputs": [
    {
     "data": {
      "text/plain": [
       "KMeans(algorithm='auto', copy_x=True, init='k-means++', max_iter=300,\n    n_clusters=3, n_init=10, n_jobs=1, precompute_distances='auto',\n    random_state=None, tol=0.0001, verbose=0)"
      ]
     },
     "execution_count": 23,
     "metadata": {},
     "output_type": "execute_result"
    }
   ],
   "source": [
    "k_means.fit(iris.data)"
   ]
  },
  {
   "cell_type": "markdown",
   "metadata": {},
   "source": [
    "Print de resulterende labels\n"
   ]
  },
  {
   "cell_type": "code",
   "execution_count": 25,
   "metadata": {},
   "outputs": [
    {
     "name": "stdout",
     "output_type": "stream",
     "text": [
      "[1 1 1 1 1 2 2 2 2 2 0 0 0 0 0]\n"
     ]
    }
   ],
   "source": [
    "print(k_means.labels_[::10])"
   ]
  },
  {
   "cell_type": "markdown",
   "metadata": {},
   "source": [
    "Print de oorspronkelijke labels\n"
   ]
  },
  {
   "cell_type": "code",
   "execution_count": 26,
   "metadata": {},
   "outputs": [
    {
     "name": "stdout",
     "output_type": "stream",
     "text": [
      "[0 0 0 0 0 1 1 1 1 1 2 2 2 2 2]\n"
     ]
    }
   ],
   "source": [
    "print(iris.target[::10])"
   ]
  },
  {
   "cell_type": "code",
   "execution_count": 28,
   "metadata": {},
   "outputs": [
    {
     "data": {
      "text/plain": [
       "array([[ 5.1,  3.5,  1.4,  0.2],\n       [ 4.9,  3. ,  1.4,  0.2],\n       [ 4.7,  3.2,  1.3,  0.2],\n       [ 4.6,  3.1,  1.5,  0.2],\n       [ 5. ,  3.6,  1.4,  0.2]])"
      ]
     },
     "execution_count": 28,
     "metadata": {},
     "output_type": "execute_result"
    }
   ],
   "source": [
    "iris.data"
   ]
  },
  {
   "cell_type": "code",
   "execution_count": 46,
   "metadata": {},
   "outputs": [],
   "source": [
    "from bokeh.plotting import figure, show\n",
    "import bokeh.palettes"
   ]
  },
  {
   "cell_type": "code",
   "execution_count": 49,
   "metadata": {},
   "outputs": [
    {
     "name": "stderr",
     "output_type": "stream",
     "text": [
      "ERROR:/Users/rorysie/Library/Python/3.5/lib/python/site-packages/bokeh/core/validation/check.py:E-1001 (BAD_COLUMN_NAME): Glyph refers to nonexistent column name: b. [renderer: GlyphRenderer(id='07e74551-0ba6-487d-be15-d798353caad7', ...)]\n"
     ]
    },
    {
     "name": "stderr",
     "output_type": "stream",
     "text": [
      "ERROR:/Users/rorysie/Library/Python/3.5/lib/python/site-packages/bokeh/core/validation/check.py:E-1001 (BAD_COLUMN_NAME): Glyph refers to nonexistent column name: b. [renderer: GlyphRenderer(id='0d09217f-ba10-4a3a-a2af-6e1ec0e81159', ...)]\n"
     ]
    },
    {
     "name": "stderr",
     "output_type": "stream",
     "text": [
      "ERROR:/Users/rorysie/Library/Python/3.5/lib/python/site-packages/bokeh/core/validation/check.py:E-1001 (BAD_COLUMN_NAME): Glyph refers to nonexistent column name: b. [renderer: GlyphRenderer(id='0e02fc06-5454-458e-9931-fb2df4876033', ...)]\n"
     ]
    },
    {
     "name": "stderr",
     "output_type": "stream",
     "text": [
      "ERROR:/Users/rorysie/Library/Python/3.5/lib/python/site-packages/bokeh/core/validation/check.py:E-1001 (BAD_COLUMN_NAME): Glyph refers to nonexistent column name: b. [renderer: GlyphRenderer(id='13d95540-1d62-4cee-9fb9-ab411f2d5c14', ...)]\n"
     ]
    },
    {
     "name": "stderr",
     "output_type": "stream",
     "text": [
      "ERROR:/Users/rorysie/Library/Python/3.5/lib/python/site-packages/bokeh/core/validation/check.py:E-1001 (BAD_COLUMN_NAME): Glyph refers to nonexistent column name: b. [renderer: GlyphRenderer(id='172f4eed-491e-4243-8dc1-82ce2c689c23', ...)]\n"
     ]
    },
    {
     "name": "stderr",
     "output_type": "stream",
     "text": [
      "ERROR:/Users/rorysie/Library/Python/3.5/lib/python/site-packages/bokeh/core/validation/check.py:E-1001 (BAD_COLUMN_NAME): Glyph refers to nonexistent column name: b. [renderer: GlyphRenderer(id='1a6dedac-1c42-405b-acea-a1f9a0f4a5fc', ...)]\n"
     ]
    },
    {
     "name": "stderr",
     "output_type": "stream",
     "text": [
      "ERROR:/Users/rorysie/Library/Python/3.5/lib/python/site-packages/bokeh/core/validation/check.py:E-1001 (BAD_COLUMN_NAME): Glyph refers to nonexistent column name: b. [renderer: GlyphRenderer(id='1b43528d-2f7c-43b7-8352-66f1e67e87a1', ...)]\n"
     ]
    },
    {
     "name": "stderr",
     "output_type": "stream",
     "text": [
      "ERROR:/Users/rorysie/Library/Python/3.5/lib/python/site-packages/bokeh/core/validation/check.py:E-1001 (BAD_COLUMN_NAME): Glyph refers to nonexistent column name: b. [renderer: GlyphRenderer(id='1c8000c1-4558-4221-9b09-056bcf65be73', ...)]\n"
     ]
    },
    {
     "name": "stderr",
     "output_type": "stream",
     "text": [
      "ERROR:/Users/rorysie/Library/Python/3.5/lib/python/site-packages/bokeh/core/validation/check.py:E-1001 (BAD_COLUMN_NAME): Glyph refers to nonexistent column name: b. [renderer: GlyphRenderer(id='1e35e856-ea09-44c2-8423-edaaa83327d9', ...)]\n"
     ]
    },
    {
     "name": "stderr",
     "output_type": "stream",
     "text": [
      "ERROR:/Users/rorysie/Library/Python/3.5/lib/python/site-packages/bokeh/core/validation/check.py:E-1001 (BAD_COLUMN_NAME): Glyph refers to nonexistent column name: b. [renderer: GlyphRenderer(id='1f89c0ff-8858-419f-8cb6-3eac07d807f5', ...)]\n"
     ]
    },
    {
     "name": "stderr",
     "output_type": "stream",
     "text": [
      "ERROR:/Users/rorysie/Library/Python/3.5/lib/python/site-packages/bokeh/core/validation/check.py:E-1001 (BAD_COLUMN_NAME): Glyph refers to nonexistent column name: b. [renderer: GlyphRenderer(id='235f9dbb-d879-4173-9838-4da69c9400a2', ...)]\n"
     ]
    },
    {
     "name": "stderr",
     "output_type": "stream",
     "text": [
      "ERROR:/Users/rorysie/Library/Python/3.5/lib/python/site-packages/bokeh/core/validation/check.py:E-1001 (BAD_COLUMN_NAME): Glyph refers to nonexistent column name: b. [renderer: GlyphRenderer(id='269d2ee0-6f14-458c-ad55-ca32a110b3f0', ...)]\n"
     ]
    },
    {
     "name": "stderr",
     "output_type": "stream",
     "text": [
      "ERROR:/Users/rorysie/Library/Python/3.5/lib/python/site-packages/bokeh/core/validation/check.py:E-1001 (BAD_COLUMN_NAME): Glyph refers to nonexistent column name: b. [renderer: GlyphRenderer(id='290fb61f-b855-4622-813d-301674ab9100', ...)]\n"
     ]
    },
    {
     "name": "stderr",
     "output_type": "stream",
     "text": [
      "ERROR:/Users/rorysie/Library/Python/3.5/lib/python/site-packages/bokeh/core/validation/check.py:E-1001 (BAD_COLUMN_NAME): Glyph refers to nonexistent column name: b. [renderer: GlyphRenderer(id='2c7d70e9-7592-4704-839e-4f090bf731ab', ...)]\n"
     ]
    },
    {
     "name": "stderr",
     "output_type": "stream",
     "text": [
      "ERROR:/Users/rorysie/Library/Python/3.5/lib/python/site-packages/bokeh/core/validation/check.py:E-1001 (BAD_COLUMN_NAME): Glyph refers to nonexistent column name: b. [renderer: GlyphRenderer(id='38097190-f16e-4968-9941-23b6aa7757f4', ...)]\n"
     ]
    },
    {
     "name": "stderr",
     "output_type": "stream",
     "text": [
      "ERROR:/Users/rorysie/Library/Python/3.5/lib/python/site-packages/bokeh/core/validation/check.py:E-1001 (BAD_COLUMN_NAME): Glyph refers to nonexistent column name: b. [renderer: GlyphRenderer(id='3f0d4a1c-d605-4468-8a87-a7c598108d92', ...)]\n"
     ]
    },
    {
     "name": "stderr",
     "output_type": "stream",
     "text": [
      "ERROR:/Users/rorysie/Library/Python/3.5/lib/python/site-packages/bokeh/core/validation/check.py:E-1001 (BAD_COLUMN_NAME): Glyph refers to nonexistent column name: b. [renderer: GlyphRenderer(id='4a34034a-556b-43d0-95c2-1982a2d37f77', ...)]\n"
     ]
    },
    {
     "name": "stderr",
     "output_type": "stream",
     "text": [
      "ERROR:/Users/rorysie/Library/Python/3.5/lib/python/site-packages/bokeh/core/validation/check.py:E-1001 (BAD_COLUMN_NAME): Glyph refers to nonexistent column name: b. [renderer: GlyphRenderer(id='4ac63966-591d-4a73-a116-516ff76cb1c5', ...)]\n"
     ]
    },
    {
     "name": "stderr",
     "output_type": "stream",
     "text": [
      "ERROR:/Users/rorysie/Library/Python/3.5/lib/python/site-packages/bokeh/core/validation/check.py:E-1001 (BAD_COLUMN_NAME): Glyph refers to nonexistent column name: b. [renderer: GlyphRenderer(id='4eee2d07-ea3b-4e22-9819-41b3544301f5', ...)]\n"
     ]
    },
    {
     "name": "stderr",
     "output_type": "stream",
     "text": [
      "ERROR:/Users/rorysie/Library/Python/3.5/lib/python/site-packages/bokeh/core/validation/check.py:E-1001 (BAD_COLUMN_NAME): Glyph refers to nonexistent column name: b. [renderer: GlyphRenderer(id='5042125d-fc0c-4fb6-891f-3429d818935a', ...)]\n"
     ]
    },
    {
     "name": "stderr",
     "output_type": "stream",
     "text": [
      "ERROR:/Users/rorysie/Library/Python/3.5/lib/python/site-packages/bokeh/core/validation/check.py:E-1001 (BAD_COLUMN_NAME): Glyph refers to nonexistent column name: b. [renderer: GlyphRenderer(id='54012b5a-efd0-4c43-8b7c-df2ea7c6e760', ...)]\n"
     ]
    },
    {
     "name": "stderr",
     "output_type": "stream",
     "text": [
      "ERROR:/Users/rorysie/Library/Python/3.5/lib/python/site-packages/bokeh/core/validation/check.py:E-1001 (BAD_COLUMN_NAME): Glyph refers to nonexistent column name: b. [renderer: GlyphRenderer(id='56f76658-0202-43fb-8499-bd9bf6a29378', ...)]\n"
     ]
    },
    {
     "name": "stderr",
     "output_type": "stream",
     "text": [
      "ERROR:/Users/rorysie/Library/Python/3.5/lib/python/site-packages/bokeh/core/validation/check.py:E-1001 (BAD_COLUMN_NAME): Glyph refers to nonexistent column name: b. [renderer: GlyphRenderer(id='573eac86-ba21-4bd3-8aec-1967802d9de0', ...)]\n"
     ]
    },
    {
     "name": "stderr",
     "output_type": "stream",
     "text": [
      "ERROR:/Users/rorysie/Library/Python/3.5/lib/python/site-packages/bokeh/core/validation/check.py:E-1001 (BAD_COLUMN_NAME): Glyph refers to nonexistent column name: b. [renderer: GlyphRenderer(id='57838fc8-9298-48f1-9935-469d866dc41b', ...)]\n"
     ]
    },
    {
     "name": "stderr",
     "output_type": "stream",
     "text": [
      "ERROR:/Users/rorysie/Library/Python/3.5/lib/python/site-packages/bokeh/core/validation/check.py:E-1001 (BAD_COLUMN_NAME): Glyph refers to nonexistent column name: b. [renderer: GlyphRenderer(id='5a147794-1d52-4bcf-bef5-56bb9664a4a8', ...)]\n"
     ]
    },
    {
     "name": "stderr",
     "output_type": "stream",
     "text": [
      "ERROR:/Users/rorysie/Library/Python/3.5/lib/python/site-packages/bokeh/core/validation/check.py:E-1001 (BAD_COLUMN_NAME): Glyph refers to nonexistent column name: b. [renderer: GlyphRenderer(id='6200f131-05cb-4342-9805-85f3f6e9f326', ...)]\n"
     ]
    },
    {
     "name": "stderr",
     "output_type": "stream",
     "text": [
      "ERROR:/Users/rorysie/Library/Python/3.5/lib/python/site-packages/bokeh/core/validation/check.py:E-1001 (BAD_COLUMN_NAME): Glyph refers to nonexistent column name: b. [renderer: GlyphRenderer(id='6a96ed1c-e927-45ec-a536-00798da34b7e', ...)]\n"
     ]
    },
    {
     "name": "stderr",
     "output_type": "stream",
     "text": [
      "ERROR:/Users/rorysie/Library/Python/3.5/lib/python/site-packages/bokeh/core/validation/check.py:E-1001 (BAD_COLUMN_NAME): Glyph refers to nonexistent column name: b. [renderer: GlyphRenderer(id='6b218789-cff2-4b05-8f21-7e0226e64d55', ...)]\n"
     ]
    },
    {
     "name": "stderr",
     "output_type": "stream",
     "text": [
      "ERROR:/Users/rorysie/Library/Python/3.5/lib/python/site-packages/bokeh/core/validation/check.py:E-1001 (BAD_COLUMN_NAME): Glyph refers to nonexistent column name: b. [renderer: GlyphRenderer(id='6bf454c6-abaa-48d4-994b-d3e50989df03', ...)]\n"
     ]
    },
    {
     "name": "stderr",
     "output_type": "stream",
     "text": [
      "ERROR:/Users/rorysie/Library/Python/3.5/lib/python/site-packages/bokeh/core/validation/check.py:E-1001 (BAD_COLUMN_NAME): Glyph refers to nonexistent column name: b. [renderer: GlyphRenderer(id='708baafa-6c7a-4058-8786-c87b403250ed', ...)]\n"
     ]
    },
    {
     "name": "stderr",
     "output_type": "stream",
     "text": [
      "ERROR:/Users/rorysie/Library/Python/3.5/lib/python/site-packages/bokeh/core/validation/check.py:E-1001 (BAD_COLUMN_NAME): Glyph refers to nonexistent column name: b. [renderer: GlyphRenderer(id='7687f152-1562-481c-a047-059a3ab22148', ...)]\n"
     ]
    },
    {
     "name": "stderr",
     "output_type": "stream",
     "text": [
      "ERROR:/Users/rorysie/Library/Python/3.5/lib/python/site-packages/bokeh/core/validation/check.py:E-1001 (BAD_COLUMN_NAME): Glyph refers to nonexistent column name: b. [renderer: GlyphRenderer(id='7c6209e8-3824-4afd-9e7d-8c512b995367', ...)]\n"
     ]
    },
    {
     "name": "stderr",
     "output_type": "stream",
     "text": [
      "ERROR:/Users/rorysie/Library/Python/3.5/lib/python/site-packages/bokeh/core/validation/check.py:E-1001 (BAD_COLUMN_NAME): Glyph refers to nonexistent column name: b. [renderer: GlyphRenderer(id='7df7da15-c310-47b5-99d3-a8d5beb7d53e', ...)]\n"
     ]
    },
    {
     "name": "stderr",
     "output_type": "stream",
     "text": [
      "ERROR:/Users/rorysie/Library/Python/3.5/lib/python/site-packages/bokeh/core/validation/check.py:E-1001 (BAD_COLUMN_NAME): Glyph refers to nonexistent column name: b. [renderer: GlyphRenderer(id='7fddf5fd-fac5-463a-94ad-95b72092505e', ...)]\n"
     ]
    },
    {
     "name": "stderr",
     "output_type": "stream",
     "text": [
      "ERROR:/Users/rorysie/Library/Python/3.5/lib/python/site-packages/bokeh/core/validation/check.py:E-1001 (BAD_COLUMN_NAME): Glyph refers to nonexistent column name: b. [renderer: GlyphRenderer(id='90323b54-2cb4-4fc4-bff1-509676ae5178', ...)]\n"
     ]
    },
    {
     "name": "stderr",
     "output_type": "stream",
     "text": [
      "ERROR:/Users/rorysie/Library/Python/3.5/lib/python/site-packages/bokeh/core/validation/check.py:E-1001 (BAD_COLUMN_NAME): Glyph refers to nonexistent column name: b. [renderer: GlyphRenderer(id='92e3af4e-d42a-429f-9f97-4a8f26fd0b7c', ...)]\n"
     ]
    },
    {
     "name": "stderr",
     "output_type": "stream",
     "text": [
      "ERROR:/Users/rorysie/Library/Python/3.5/lib/python/site-packages/bokeh/core/validation/check.py:E-1001 (BAD_COLUMN_NAME): Glyph refers to nonexistent column name: b. [renderer: GlyphRenderer(id='9a92b7de-a606-43e4-b1bb-e4fd1d984c14', ...)]\n"
     ]
    },
    {
     "name": "stderr",
     "output_type": "stream",
     "text": [
      "ERROR:/Users/rorysie/Library/Python/3.5/lib/python/site-packages/bokeh/core/validation/check.py:E-1001 (BAD_COLUMN_NAME): Glyph refers to nonexistent column name: b. [renderer: GlyphRenderer(id='9fca2272-c392-4566-b3aa-bd96c3bd3344', ...)]\n"
     ]
    },
    {
     "name": "stderr",
     "output_type": "stream",
     "text": [
      "ERROR:/Users/rorysie/Library/Python/3.5/lib/python/site-packages/bokeh/core/validation/check.py:E-1001 (BAD_COLUMN_NAME): Glyph refers to nonexistent column name: b. [renderer: GlyphRenderer(id='9fda358f-1b19-4649-9cb5-6f736e8820dd', ...)]\n"
     ]
    },
    {
     "name": "stderr",
     "output_type": "stream",
     "text": [
      "ERROR:/Users/rorysie/Library/Python/3.5/lib/python/site-packages/bokeh/core/validation/check.py:E-1001 (BAD_COLUMN_NAME): Glyph refers to nonexistent column name: b. [renderer: GlyphRenderer(id='a14e39d8-9820-41df-baa0-ee5521010cee', ...)]\n"
     ]
    },
    {
     "name": "stderr",
     "output_type": "stream",
     "text": [
      "ERROR:/Users/rorysie/Library/Python/3.5/lib/python/site-packages/bokeh/core/validation/check.py:E-1001 (BAD_COLUMN_NAME): Glyph refers to nonexistent column name: b. [renderer: GlyphRenderer(id='a37aaa9f-42cc-4f99-9cac-0d6e20eabfcb', ...)]\n"
     ]
    },
    {
     "name": "stderr",
     "output_type": "stream",
     "text": [
      "ERROR:/Users/rorysie/Library/Python/3.5/lib/python/site-packages/bokeh/core/validation/check.py:E-1001 (BAD_COLUMN_NAME): Glyph refers to nonexistent column name: b. [renderer: GlyphRenderer(id='ab86d506-15e2-4816-b9fa-e1ac36295bb1', ...)]\n"
     ]
    },
    {
     "name": "stderr",
     "output_type": "stream",
     "text": [
      "ERROR:/Users/rorysie/Library/Python/3.5/lib/python/site-packages/bokeh/core/validation/check.py:E-1001 (BAD_COLUMN_NAME): Glyph refers to nonexistent column name: b. [renderer: GlyphRenderer(id='ade0b0b3-4387-4f3d-98b1-6fbf20f15a16', ...)]\n"
     ]
    },
    {
     "name": "stderr",
     "output_type": "stream",
     "text": [
      "ERROR:/Users/rorysie/Library/Python/3.5/lib/python/site-packages/bokeh/core/validation/check.py:E-1001 (BAD_COLUMN_NAME): Glyph refers to nonexistent column name: b. [renderer: GlyphRenderer(id='aff065cc-e683-49e4-8105-d8968fd60fa1', ...)]\n"
     ]
    },
    {
     "name": "stderr",
     "output_type": "stream",
     "text": [
      "ERROR:/Users/rorysie/Library/Python/3.5/lib/python/site-packages/bokeh/core/validation/check.py:E-1001 (BAD_COLUMN_NAME): Glyph refers to nonexistent column name: b. [renderer: GlyphRenderer(id='b5e5e059-772f-4cdb-a750-b40469e20028', ...)]\n"
     ]
    },
    {
     "name": "stderr",
     "output_type": "stream",
     "text": [
      "ERROR:/Users/rorysie/Library/Python/3.5/lib/python/site-packages/bokeh/core/validation/check.py:E-1001 (BAD_COLUMN_NAME): Glyph refers to nonexistent column name: b. [renderer: GlyphRenderer(id='b8e7dffd-003e-48af-b3ed-c0b2da20d03d', ...)]\n"
     ]
    },
    {
     "name": "stderr",
     "output_type": "stream",
     "text": [
      "ERROR:/Users/rorysie/Library/Python/3.5/lib/python/site-packages/bokeh/core/validation/check.py:E-1001 (BAD_COLUMN_NAME): Glyph refers to nonexistent column name: b. [renderer: GlyphRenderer(id='bbd1330d-95e5-4858-ba3b-b63542e4d1e9', ...)]\n"
     ]
    },
    {
     "name": "stderr",
     "output_type": "stream",
     "text": [
      "ERROR:/Users/rorysie/Library/Python/3.5/lib/python/site-packages/bokeh/core/validation/check.py:E-1001 (BAD_COLUMN_NAME): Glyph refers to nonexistent column name: b. [renderer: GlyphRenderer(id='c070faa5-b391-4a67-be28-7f76bf602578', ...)]\n"
     ]
    },
    {
     "name": "stderr",
     "output_type": "stream",
     "text": [
      "ERROR:/Users/rorysie/Library/Python/3.5/lib/python/site-packages/bokeh/core/validation/check.py:E-1001 (BAD_COLUMN_NAME): Glyph refers to nonexistent column name: b. [renderer: GlyphRenderer(id='c07fd3e6-520c-4bcb-9040-4bc0c3531207', ...)]\n"
     ]
    },
    {
     "name": "stderr",
     "output_type": "stream",
     "text": [
      "ERROR:/Users/rorysie/Library/Python/3.5/lib/python/site-packages/bokeh/core/validation/check.py:E-1001 (BAD_COLUMN_NAME): Glyph refers to nonexistent column name: b. [renderer: GlyphRenderer(id='c77d20e6-c8da-4ab5-bd7d-963c9a72314b', ...)]\n"
     ]
    },
    {
     "name": "stderr",
     "output_type": "stream",
     "text": [
      "ERROR:/Users/rorysie/Library/Python/3.5/lib/python/site-packages/bokeh/core/validation/check.py:E-1001 (BAD_COLUMN_NAME): Glyph refers to nonexistent column name: b. [renderer: GlyphRenderer(id='cafc4103-8552-493d-8dd8-d79e2ba33096', ...)]\n"
     ]
    },
    {
     "name": "stderr",
     "output_type": "stream",
     "text": [
      "ERROR:/Users/rorysie/Library/Python/3.5/lib/python/site-packages/bokeh/core/validation/check.py:E-1001 (BAD_COLUMN_NAME): Glyph refers to nonexistent column name: b. [renderer: GlyphRenderer(id='cb70d58d-d018-4556-8987-ec8e1e652581', ...)]\n"
     ]
    },
    {
     "name": "stderr",
     "output_type": "stream",
     "text": [
      "ERROR:/Users/rorysie/Library/Python/3.5/lib/python/site-packages/bokeh/core/validation/check.py:E-1001 (BAD_COLUMN_NAME): Glyph refers to nonexistent column name: b. [renderer: GlyphRenderer(id='cb8cce00-2e5c-4e4b-9a85-35a8c1d41e21', ...)]\n"
     ]
    },
    {
     "name": "stderr",
     "output_type": "stream",
     "text": [
      "ERROR:/Users/rorysie/Library/Python/3.5/lib/python/site-packages/bokeh/core/validation/check.py:E-1001 (BAD_COLUMN_NAME): Glyph refers to nonexistent column name: b. [renderer: GlyphRenderer(id='d10de772-50a1-4b3e-99dc-54103766584b', ...)]\n"
     ]
    },
    {
     "name": "stderr",
     "output_type": "stream",
     "text": [
      "ERROR:/Users/rorysie/Library/Python/3.5/lib/python/site-packages/bokeh/core/validation/check.py:E-1001 (BAD_COLUMN_NAME): Glyph refers to nonexistent column name: b. [renderer: GlyphRenderer(id='d431f46b-c78c-474e-a9a3-5e09d635d8b5', ...)]\n"
     ]
    },
    {
     "name": "stderr",
     "output_type": "stream",
     "text": [
      "ERROR:/Users/rorysie/Library/Python/3.5/lib/python/site-packages/bokeh/core/validation/check.py:E-1001 (BAD_COLUMN_NAME): Glyph refers to nonexistent column name: b. [renderer: GlyphRenderer(id='d676ad9a-b906-4090-bd2e-8059162f17df', ...)]\n"
     ]
    },
    {
     "name": "stderr",
     "output_type": "stream",
     "text": [
      "ERROR:/Users/rorysie/Library/Python/3.5/lib/python/site-packages/bokeh/core/validation/check.py:E-1001 (BAD_COLUMN_NAME): Glyph refers to nonexistent column name: b. [renderer: GlyphRenderer(id='d6d88471-714c-4c1d-8ade-d28750061620', ...)]\n"
     ]
    },
    {
     "name": "stderr",
     "output_type": "stream",
     "text": [
      "ERROR:/Users/rorysie/Library/Python/3.5/lib/python/site-packages/bokeh/core/validation/check.py:E-1001 (BAD_COLUMN_NAME): Glyph refers to nonexistent column name: b. [renderer: GlyphRenderer(id='d9cb0f72-891a-4f4e-90e5-18c4701b3705', ...)]\n"
     ]
    },
    {
     "name": "stderr",
     "output_type": "stream",
     "text": [
      "ERROR:/Users/rorysie/Library/Python/3.5/lib/python/site-packages/bokeh/core/validation/check.py:E-1001 (BAD_COLUMN_NAME): Glyph refers to nonexistent column name: b. [renderer: GlyphRenderer(id='dc15a524-d63d-4392-b5fc-ab7116ee9228', ...)]\n"
     ]
    },
    {
     "name": "stderr",
     "output_type": "stream",
     "text": [
      "ERROR:/Users/rorysie/Library/Python/3.5/lib/python/site-packages/bokeh/core/validation/check.py:E-1001 (BAD_COLUMN_NAME): Glyph refers to nonexistent column name: b. [renderer: GlyphRenderer(id='e13a0be7-a296-4049-a1ab-b2390908940b', ...)]\n"
     ]
    },
    {
     "name": "stderr",
     "output_type": "stream",
     "text": [
      "ERROR:/Users/rorysie/Library/Python/3.5/lib/python/site-packages/bokeh/core/validation/check.py:E-1001 (BAD_COLUMN_NAME): Glyph refers to nonexistent column name: b. [renderer: GlyphRenderer(id='e49f5e0c-c6db-4b2a-b5b1-5258e7e37c9c', ...)]\n"
     ]
    },
    {
     "name": "stderr",
     "output_type": "stream",
     "text": [
      "ERROR:/Users/rorysie/Library/Python/3.5/lib/python/site-packages/bokeh/core/validation/check.py:E-1001 (BAD_COLUMN_NAME): Glyph refers to nonexistent column name: b. [renderer: GlyphRenderer(id='fa739a93-8246-406f-9b34-b564e9b27e7b', ...)]\n"
     ]
    },
    {
     "name": "stderr",
     "output_type": "stream",
     "text": [
      "ERROR:/Users/rorysie/Library/Python/3.5/lib/python/site-packages/bokeh/core/validation/check.py:E-1001 (BAD_COLUMN_NAME): Glyph refers to nonexistent column name: g. [renderer: GlyphRenderer(id='00eb8bda-e186-4b7a-bbda-181925ca81aa', ...)]\n"
     ]
    },
    {
     "name": "stderr",
     "output_type": "stream",
     "text": [
      "ERROR:/Users/rorysie/Library/Python/3.5/lib/python/site-packages/bokeh/core/validation/check.py:E-1001 (BAD_COLUMN_NAME): Glyph refers to nonexistent column name: g. [renderer: GlyphRenderer(id='084b8681-f7de-4a04-872a-60a285f6d840', ...)]\n"
     ]
    },
    {
     "name": "stderr",
     "output_type": "stream",
     "text": [
      "ERROR:/Users/rorysie/Library/Python/3.5/lib/python/site-packages/bokeh/core/validation/check.py:E-1001 (BAD_COLUMN_NAME): Glyph refers to nonexistent column name: g. [renderer: GlyphRenderer(id='0b72a1ce-0cfa-4c35-a9a3-b290bea21e77', ...)]\n"
     ]
    },
    {
     "name": "stderr",
     "output_type": "stream",
     "text": [
      "ERROR:/Users/rorysie/Library/Python/3.5/lib/python/site-packages/bokeh/core/validation/check.py:E-1001 (BAD_COLUMN_NAME): Glyph refers to nonexistent column name: g. [renderer: GlyphRenderer(id='0e6aadea-e650-4c42-920c-b26cd323c7d7', ...)]\n"
     ]
    },
    {
     "name": "stderr",
     "output_type": "stream",
     "text": [
      "ERROR:/Users/rorysie/Library/Python/3.5/lib/python/site-packages/bokeh/core/validation/check.py:E-1001 (BAD_COLUMN_NAME): Glyph refers to nonexistent column name: g. [renderer: GlyphRenderer(id='11d60dd7-c954-49d6-a98e-b9df069b5265', ...)]\n"
     ]
    },
    {
     "name": "stderr",
     "output_type": "stream",
     "text": [
      "ERROR:/Users/rorysie/Library/Python/3.5/lib/python/site-packages/bokeh/core/validation/check.py:E-1001 (BAD_COLUMN_NAME): Glyph refers to nonexistent column name: g. [renderer: GlyphRenderer(id='180c8574-2880-472b-9092-5df34f4e233e', ...)]"
     ]
    },
    {
     "name": "stderr",
     "output_type": "stream",
     "text": [
      "\n"
     ]
    },
    {
     "name": "stderr",
     "output_type": "stream",
     "text": [
      "ERROR:/Users/rorysie/Library/Python/3.5/lib/python/site-packages/bokeh/core/validation/check.py:E-1001 (BAD_COLUMN_NAME): Glyph refers to nonexistent column name: g. [renderer: GlyphRenderer(id='30db1238-9e1c-45c7-9d47-f192dc2d3842', ...)]\n"
     ]
    },
    {
     "name": "stderr",
     "output_type": "stream",
     "text": [
      "ERROR:/Users/rorysie/Library/Python/3.5/lib/python/site-packages/bokeh/core/validation/check.py:E-1001 (BAD_COLUMN_NAME): Glyph refers to nonexistent column name: g. [renderer: GlyphRenderer(id='3a2f1cae-ac0e-4a7d-b8ed-c7f6d345751d', ...)]\n"
     ]
    },
    {
     "name": "stderr",
     "output_type": "stream",
     "text": [
      "ERROR:/Users/rorysie/Library/Python/3.5/lib/python/site-packages/bokeh/core/validation/check.py:E-1001 (BAD_COLUMN_NAME): Glyph refers to nonexistent column name: g. [renderer: GlyphRenderer(id='43500b14-69f1-418c-94d7-1a9068036145', ...)]"
     ]
    },
    {
     "name": "stderr",
     "output_type": "stream",
     "text": [
      "\n"
     ]
    },
    {
     "name": "stderr",
     "output_type": "stream",
     "text": [
      "ERROR:/Users/rorysie/Library/Python/3.5/lib/python/site-packages/bokeh/core/validation/check.py:E-1001 (BAD_COLUMN_NAME): Glyph refers to nonexistent column name: g. [renderer: GlyphRenderer(id='468c8660-41f9-4223-96bd-18a5d8248a99', ...)]"
     ]
    },
    {
     "name": "stderr",
     "output_type": "stream",
     "text": [
      "\n"
     ]
    },
    {
     "name": "stderr",
     "output_type": "stream",
     "text": [
      "ERROR:/Users/rorysie/Library/Python/3.5/lib/python/site-packages/bokeh/core/validation/check.py:E-1001 (BAD_COLUMN_NAME): Glyph refers to nonexistent column name: g. [renderer: GlyphRenderer(id='47bd3f96-8d38-40b1-8f4f-85b9fb8fa7ed', ...)]\n"
     ]
    },
    {
     "name": "stderr",
     "output_type": "stream",
     "text": [
      "ERROR:/Users/rorysie/Library/Python/3.5/lib/python/site-packages/bokeh/core/validation/check.py:E-1001 (BAD_COLUMN_NAME): Glyph refers to nonexistent column name: g. [renderer: GlyphRenderer(id='48d5529e-4b37-41fd-afdf-79ba80c1af3d', ...)]\n"
     ]
    },
    {
     "name": "stderr",
     "output_type": "stream",
     "text": [
      "ERROR:/Users/rorysie/Library/Python/3.5/lib/python/site-packages/bokeh/core/validation/check.py:E-1001 (BAD_COLUMN_NAME): Glyph refers to nonexistent column name: g. [renderer: GlyphRenderer(id='51d45a2e-223b-418d-a3ca-c1251473db0e', ...)]\n"
     ]
    },
    {
     "name": "stderr",
     "output_type": "stream",
     "text": [
      "ERROR:/Users/rorysie/Library/Python/3.5/lib/python/site-packages/bokeh/core/validation/check.py:E-1001 (BAD_COLUMN_NAME): Glyph refers to nonexistent column name: g. [renderer: GlyphRenderer(id='558ad28b-6c10-4d7a-9edf-21b55cda97fb', ...)]\n"
     ]
    },
    {
     "name": "stderr",
     "output_type": "stream",
     "text": [
      "ERROR:/Users/rorysie/Library/Python/3.5/lib/python/site-packages/bokeh/core/validation/check.py:E-1001 (BAD_COLUMN_NAME): Glyph refers to nonexistent column name: g. [renderer: GlyphRenderer(id='5e3ce97a-e36d-43b0-8590-7da23deee138', ...)]\n"
     ]
    },
    {
     "name": "stderr",
     "output_type": "stream",
     "text": [
      "ERROR:/Users/rorysie/Library/Python/3.5/lib/python/site-packages/bokeh/core/validation/check.py:E-1001 (BAD_COLUMN_NAME): Glyph refers to nonexistent column name: g. [renderer: GlyphRenderer(id='5e412594-2580-460c-90e9-22d9c493fe91', ...)]\n"
     ]
    },
    {
     "name": "stderr",
     "output_type": "stream",
     "text": [
      "ERROR:/Users/rorysie/Library/Python/3.5/lib/python/site-packages/bokeh/core/validation/check.py:E-1001 (BAD_COLUMN_NAME): Glyph refers to nonexistent column name: g. [renderer: GlyphRenderer(id='751c6829-5a13-44fe-af75-f925bacfa368', ...)]\n"
     ]
    },
    {
     "name": "stderr",
     "output_type": "stream",
     "text": [
      "ERROR:/Users/rorysie/Library/Python/3.5/lib/python/site-packages/bokeh/core/validation/check.py:E-1001 (BAD_COLUMN_NAME): Glyph refers to nonexistent column name: g. [renderer: GlyphRenderer(id='7a8db70b-72fe-4412-8725-cecff916272f', ...)]\n"
     ]
    },
    {
     "name": "stderr",
     "output_type": "stream",
     "text": [
      "ERROR:/Users/rorysie/Library/Python/3.5/lib/python/site-packages/bokeh/core/validation/check.py:E-1001 (BAD_COLUMN_NAME): Glyph refers to nonexistent column name: g. [renderer: GlyphRenderer(id='7b17233f-6dda-4be7-a72c-bfa6e6657560', ...)]\n"
     ]
    },
    {
     "name": "stderr",
     "output_type": "stream",
     "text": [
      "ERROR:/Users/rorysie/Library/Python/3.5/lib/python/site-packages/bokeh/core/validation/check.py:E-1001 (BAD_COLUMN_NAME): Glyph refers to nonexistent column name: g. [renderer: GlyphRenderer(id='83f5c7c9-3560-4c3d-8720-2bbcc6a8b774', ...)]\n"
     ]
    },
    {
     "name": "stderr",
     "output_type": "stream",
     "text": [
      "ERROR:/Users/rorysie/Library/Python/3.5/lib/python/site-packages/bokeh/core/validation/check.py:E-1001 (BAD_COLUMN_NAME): Glyph refers to nonexistent column name: g. [renderer: GlyphRenderer(id='847270cd-2f3d-4232-b8dc-ce2547e979c3', ...)]\n"
     ]
    },
    {
     "name": "stderr",
     "output_type": "stream",
     "text": [
      "ERROR:/Users/rorysie/Library/Python/3.5/lib/python/site-packages/bokeh/core/validation/check.py:E-1001 (BAD_COLUMN_NAME): Glyph refers to nonexistent column name: g. [renderer: GlyphRenderer(id='88d1a1e5-d78c-490d-a090-9b718b6dd5bd', ...)]\n"
     ]
    },
    {
     "name": "stderr",
     "output_type": "stream",
     "text": [
      "ERROR:/Users/rorysie/Library/Python/3.5/lib/python/site-packages/bokeh/core/validation/check.py:E-1001 (BAD_COLUMN_NAME): Glyph refers to nonexistent column name: g. [renderer: GlyphRenderer(id='89fac21b-1e98-4af9-b19c-9c15ecedaa7e', ...)]\n"
     ]
    },
    {
     "name": "stderr",
     "output_type": "stream",
     "text": [
      "ERROR:/Users/rorysie/Library/Python/3.5/lib/python/site-packages/bokeh/core/validation/check.py:E-1001 (BAD_COLUMN_NAME): Glyph refers to nonexistent column name: g. [renderer: GlyphRenderer(id='8a3a01cc-ec99-4180-bc48-8515e653a56d', ...)]\n"
     ]
    },
    {
     "name": "stderr",
     "output_type": "stream",
     "text": [
      "ERROR:/Users/rorysie/Library/Python/3.5/lib/python/site-packages/bokeh/core/validation/check.py:E-1001 (BAD_COLUMN_NAME): Glyph refers to nonexistent column name: g. [renderer: GlyphRenderer(id='8d591c08-daa5-4c17-afb1-7dfab1af7165', ...)]"
     ]
    },
    {
     "name": "stderr",
     "output_type": "stream",
     "text": [
      "\n"
     ]
    },
    {
     "name": "stderr",
     "output_type": "stream",
     "text": [
      "ERROR:/Users/rorysie/Library/Python/3.5/lib/python/site-packages/bokeh/core/validation/check.py:E-1001 (BAD_COLUMN_NAME): Glyph refers to nonexistent column name: g. [renderer: GlyphRenderer(id='8ff23c67-2bb8-44f0-94eb-8b949f46448e', ...)]\n"
     ]
    },
    {
     "name": "stderr",
     "output_type": "stream",
     "text": [
      "ERROR:/Users/rorysie/Library/Python/3.5/lib/python/site-packages/bokeh/core/validation/check.py:E-1001 (BAD_COLUMN_NAME): Glyph refers to nonexistent column name: g. [renderer: GlyphRenderer(id='9203382f-dd83-4deb-bbc6-489e9623b8fe', ...)]"
     ]
    },
    {
     "name": "stderr",
     "output_type": "stream",
     "text": [
      "\n"
     ]
    },
    {
     "name": "stderr",
     "output_type": "stream",
     "text": [
      "ERROR:/Users/rorysie/Library/Python/3.5/lib/python/site-packages/bokeh/core/validation/check.py:E-1001 (BAD_COLUMN_NAME): Glyph refers to nonexistent column name: g. [renderer: GlyphRenderer(id='9b21e571-3543-4317-8845-ba651f8ea93b', ...)]\n"
     ]
    },
    {
     "name": "stderr",
     "output_type": "stream",
     "text": [
      "ERROR:/Users/rorysie/Library/Python/3.5/lib/python/site-packages/bokeh/core/validation/check.py:E-1001 (BAD_COLUMN_NAME): Glyph refers to nonexistent column name: g. [renderer: GlyphRenderer(id='9c34fa66-b576-4f3a-9868-7dcd561b7ed2', ...)]\n"
     ]
    },
    {
     "name": "stderr",
     "output_type": "stream",
     "text": [
      "ERROR:/Users/rorysie/Library/Python/3.5/lib/python/site-packages/bokeh/core/validation/check.py:E-1001 (BAD_COLUMN_NAME): Glyph refers to nonexistent column name: g. [renderer: GlyphRenderer(id='a5fe267c-3842-4e68-a432-337897e864f2', ...)]"
     ]
    },
    {
     "name": "stderr",
     "output_type": "stream",
     "text": [
      "\n"
     ]
    },
    {
     "name": "stderr",
     "output_type": "stream",
     "text": [
      "ERROR:/Users/rorysie/Library/Python/3.5/lib/python/site-packages/bokeh/core/validation/check.py:E-1001 (BAD_COLUMN_NAME): Glyph refers to nonexistent column name: g. [renderer: GlyphRenderer(id='a759fbbf-78e5-43f0-9a07-a8ace9e605b0', ...)]\n"
     ]
    },
    {
     "name": "stderr",
     "output_type": "stream",
     "text": [
      "ERROR:/Users/rorysie/Library/Python/3.5/lib/python/site-packages/bokeh/core/validation/check.py:E-1001 (BAD_COLUMN_NAME): Glyph refers to nonexistent column name: g. [renderer: GlyphRenderer(id='aa702cbd-6c3c-49dd-8e83-78203c8ed42c', ...)]\n"
     ]
    },
    {
     "name": "stderr",
     "output_type": "stream",
     "text": [
      "ERROR:/Users/rorysie/Library/Python/3.5/lib/python/site-packages/bokeh/core/validation/check.py:E-1001 (BAD_COLUMN_NAME): Glyph refers to nonexistent column name: g. [renderer: GlyphRenderer(id='aaee8013-6688-4d01-8794-5b183320db5f', ...)]"
     ]
    },
    {
     "name": "stderr",
     "output_type": "stream",
     "text": [
      "\n"
     ]
    },
    {
     "name": "stderr",
     "output_type": "stream",
     "text": [
      "ERROR:/Users/rorysie/Library/Python/3.5/lib/python/site-packages/bokeh/core/validation/check.py:E-1001 (BAD_COLUMN_NAME): Glyph refers to nonexistent column name: g. [renderer: GlyphRenderer(id='adba05b3-3f40-4953-9d3f-e1210c1627a3', ...)]\n"
     ]
    },
    {
     "name": "stderr",
     "output_type": "stream",
     "text": [
      "ERROR:/Users/rorysie/Library/Python/3.5/lib/python/site-packages/bokeh/core/validation/check.py:E-1001 (BAD_COLUMN_NAME): Glyph refers to nonexistent column name: g. [renderer: GlyphRenderer(id='aefe847f-5f50-49cf-8d3e-4253e5e357eb', ...)]"
     ]
    },
    {
     "name": "stderr",
     "output_type": "stream",
     "text": [
      "\n"
     ]
    },
    {
     "name": "stderr",
     "output_type": "stream",
     "text": [
      "ERROR:/Users/rorysie/Library/Python/3.5/lib/python/site-packages/bokeh/core/validation/check.py:E-1001 (BAD_COLUMN_NAME): Glyph refers to nonexistent column name: g. [renderer: GlyphRenderer(id='afb8703a-be5a-48b0-b519-d9d79bc121e4', ...)]\n"
     ]
    },
    {
     "name": "stderr",
     "output_type": "stream",
     "text": [
      "ERROR:/Users/rorysie/Library/Python/3.5/lib/python/site-packages/bokeh/core/validation/check.py:E-1001 (BAD_COLUMN_NAME): Glyph refers to nonexistent column name: g. [renderer: GlyphRenderer(id='b104d37a-2d80-459b-88fb-93a6bc337b41', ...)]\n"
     ]
    },
    {
     "name": "stderr",
     "output_type": "stream",
     "text": [
      "ERROR:/Users/rorysie/Library/Python/3.5/lib/python/site-packages/bokeh/core/validation/check.py:E-1001 (BAD_COLUMN_NAME): Glyph refers to nonexistent column name: g. [renderer: GlyphRenderer(id='b3346d8a-f7e2-4709-a226-ef16197c3e52', ...)]\n"
     ]
    },
    {
     "name": "stderr",
     "output_type": "stream",
     "text": [
      "ERROR:/Users/rorysie/Library/Python/3.5/lib/python/site-packages/bokeh/core/validation/check.py:E-1001 (BAD_COLUMN_NAME): Glyph refers to nonexistent column name: g. [renderer: GlyphRenderer(id='c764adb1-5bfb-48b3-90a5-3f3c7c691fb2', ...)]\n"
     ]
    },
    {
     "name": "stderr",
     "output_type": "stream",
     "text": [
      "ERROR:/Users/rorysie/Library/Python/3.5/lib/python/site-packages/bokeh/core/validation/check.py:E-1001 (BAD_COLUMN_NAME): Glyph refers to nonexistent column name: g. [renderer: GlyphRenderer(id='c7a33342-edda-424b-a4f0-f5234f315d1f', ...)]\n"
     ]
    },
    {
     "name": "stderr",
     "output_type": "stream",
     "text": [
      "ERROR:/Users/rorysie/Library/Python/3.5/lib/python/site-packages/bokeh/core/validation/check.py:E-1001 (BAD_COLUMN_NAME): Glyph refers to nonexistent column name: g. [renderer: GlyphRenderer(id='cee3fbc5-ed38-4652-b975-66904c7885e4', ...)]\n"
     ]
    },
    {
     "name": "stderr",
     "output_type": "stream",
     "text": [
      "ERROR:/Users/rorysie/Library/Python/3.5/lib/python/site-packages/bokeh/core/validation/check.py:E-1001 (BAD_COLUMN_NAME): Glyph refers to nonexistent column name: g. [renderer: GlyphRenderer(id='d0badc14-52c9-4b1d-9e1a-3c03f730f9de', ...)]"
     ]
    },
    {
     "name": "stderr",
     "output_type": "stream",
     "text": [
      "\n"
     ]
    },
    {
     "name": "stderr",
     "output_type": "stream",
     "text": [
      "ERROR:/Users/rorysie/Library/Python/3.5/lib/python/site-packages/bokeh/core/validation/check.py:E-1001 (BAD_COLUMN_NAME): Glyph refers to nonexistent column name: g. [renderer: GlyphRenderer(id='d93ef8ef-bdfa-4980-9869-9e72ba5f5279', ...)]"
     ]
    },
    {
     "name": "stderr",
     "output_type": "stream",
     "text": [
      "\n"
     ]
    },
    {
     "name": "stderr",
     "output_type": "stream",
     "text": [
      "ERROR:/Users/rorysie/Library/Python/3.5/lib/python/site-packages/bokeh/core/validation/check.py:E-1001 (BAD_COLUMN_NAME): Glyph refers to nonexistent column name: g. [renderer: GlyphRenderer(id='e0d45d31-0df3-420b-9945-df70de826044', ...)]"
     ]
    },
    {
     "name": "stderr",
     "output_type": "stream",
     "text": [
      "\n"
     ]
    },
    {
     "name": "stderr",
     "output_type": "stream",
     "text": [
      "ERROR:/Users/rorysie/Library/Python/3.5/lib/python/site-packages/bokeh/core/validation/check.py:E-1001 (BAD_COLUMN_NAME): Glyph refers to nonexistent column name: g. [renderer: GlyphRenderer(id='e31de449-8546-4411-bc10-d8bef4b824e7', ...)]\n"
     ]
    },
    {
     "name": "stderr",
     "output_type": "stream",
     "text": [
      "ERROR:/Users/rorysie/Library/Python/3.5/lib/python/site-packages/bokeh/core/validation/check.py:E-1001 (BAD_COLUMN_NAME): Glyph refers to nonexistent column name: g. [renderer: GlyphRenderer(id='ea6a049d-7298-4395-a58d-65ad9ef0515c', ...)]\n"
     ]
    },
    {
     "name": "stderr",
     "output_type": "stream",
     "text": [
      "ERROR:/Users/rorysie/Library/Python/3.5/lib/python/site-packages/bokeh/core/validation/check.py:E-1001 (BAD_COLUMN_NAME): Glyph refers to nonexistent column name: g. [renderer: GlyphRenderer(id='ebf0f017-59a0-42c3-a455-b505aeaeb95a', ...)]"
     ]
    },
    {
     "name": "stderr",
     "output_type": "stream",
     "text": [
      "\n"
     ]
    },
    {
     "name": "stderr",
     "output_type": "stream",
     "text": [
      "ERROR:/Users/rorysie/Library/Python/3.5/lib/python/site-packages/bokeh/core/validation/check.py:E-1001 (BAD_COLUMN_NAME): Glyph refers to nonexistent column name: g. [renderer: GlyphRenderer(id='f2f8fd40-8663-47fa-8f67-56b09c206004', ...)]\n"
     ]
    },
    {
     "name": "stderr",
     "output_type": "stream",
     "text": [
      "ERROR:/Users/rorysie/Library/Python/3.5/lib/python/site-packages/bokeh/core/validation/check.py:E-1001 (BAD_COLUMN_NAME): Glyph refers to nonexistent column name: g. [renderer: GlyphRenderer(id='f71e0a21-2ceb-4d48-b624-e65ceb042171', ...)]\n"
     ]
    },
    {
     "name": "stderr",
     "output_type": "stream",
     "text": [
      "ERROR:/Users/rorysie/Library/Python/3.5/lib/python/site-packages/bokeh/core/validation/check.py:E-1001 (BAD_COLUMN_NAME): Glyph refers to nonexistent column name: g. [renderer: GlyphRenderer(id='fee92eff-0e5f-40db-b77c-4d98370df22d', ...)]\n"
     ]
    },
    {
     "name": "stderr",
     "output_type": "stream",
     "text": [
      "ERROR:/Users/rorysie/Library/Python/3.5/lib/python/site-packages/bokeh/core/validation/check.py:E-1001 (BAD_COLUMN_NAME): Glyph refers to nonexistent column name: r. [renderer: GlyphRenderer(id='0231d8c3-aaff-4964-9d65-66cd01ad3257', ...)]\n"
     ]
    },
    {
     "name": "stderr",
     "output_type": "stream",
     "text": [
      "ERROR:/Users/rorysie/Library/Python/3.5/lib/python/site-packages/bokeh/core/validation/check.py:E-1001 (BAD_COLUMN_NAME): Glyph refers to nonexistent column name: r. [renderer: GlyphRenderer(id='06f72511-33ff-443e-ad7d-0d5a28c17901', ...)]\n"
     ]
    },
    {
     "name": "stderr",
     "output_type": "stream",
     "text": [
      "ERROR:/Users/rorysie/Library/Python/3.5/lib/python/site-packages/bokeh/core/validation/check.py:E-1001 (BAD_COLUMN_NAME): Glyph refers to nonexistent column name: r. [renderer: GlyphRenderer(id='095f1ef8-2d71-4be7-8251-0ebcd9400ce4', ...)]\n"
     ]
    },
    {
     "name": "stderr",
     "output_type": "stream",
     "text": [
      "ERROR:/Users/rorysie/Library/Python/3.5/lib/python/site-packages/bokeh/core/validation/check.py:E-1001 (BAD_COLUMN_NAME): Glyph refers to nonexistent column name: r. [renderer: GlyphRenderer(id='12fd6b80-6e92-4a12-a7cb-b7d90f764a92', ...)]\n"
     ]
    },
    {
     "name": "stderr",
     "output_type": "stream",
     "text": [
      "ERROR:/Users/rorysie/Library/Python/3.5/lib/python/site-packages/bokeh/core/validation/check.py:E-1001 (BAD_COLUMN_NAME): Glyph refers to nonexistent column name: r. [renderer: GlyphRenderer(id='2f35091d-ce35-4d03-a97f-6f5dd4b12b8e', ...)]\n"
     ]
    },
    {
     "name": "stderr",
     "output_type": "stream",
     "text": [
      "ERROR:/Users/rorysie/Library/Python/3.5/lib/python/site-packages/bokeh/core/validation/check.py:E-1001 (BAD_COLUMN_NAME): Glyph refers to nonexistent column name: r. [renderer: GlyphRenderer(id='32e3ebe1-0d6d-48e5-90ac-27182cc55bfd', ...)]\n"
     ]
    },
    {
     "name": "stderr",
     "output_type": "stream",
     "text": [
      "ERROR:/Users/rorysie/Library/Python/3.5/lib/python/site-packages/bokeh/core/validation/check.py:E-1001 (BAD_COLUMN_NAME): Glyph refers to nonexistent column name: r. [renderer: GlyphRenderer(id='392ea74d-7aec-4e53-8008-291fd16d8f90', ...)]\n"
     ]
    },
    {
     "name": "stderr",
     "output_type": "stream",
     "text": [
      "ERROR:/Users/rorysie/Library/Python/3.5/lib/python/site-packages/bokeh/core/validation/check.py:E-1001 (BAD_COLUMN_NAME): Glyph refers to nonexistent column name: r. [renderer: GlyphRenderer(id='3cbb5b63-3d67-481f-9500-182b1638ac30', ...)]\n"
     ]
    },
    {
     "name": "stderr",
     "output_type": "stream",
     "text": [
      "ERROR:/Users/rorysie/Library/Python/3.5/lib/python/site-packages/bokeh/core/validation/check.py:E-1001 (BAD_COLUMN_NAME): Glyph refers to nonexistent column name: r. [renderer: GlyphRenderer(id='3e5b8da7-9db0-4de4-92ba-cb8d540fe2e3', ...)]\n"
     ]
    },
    {
     "name": "stderr",
     "output_type": "stream",
     "text": [
      "ERROR:/Users/rorysie/Library/Python/3.5/lib/python/site-packages/bokeh/core/validation/check.py:E-1001 (BAD_COLUMN_NAME): Glyph refers to nonexistent column name: r. [renderer: GlyphRenderer(id='4288de69-bb27-472d-b951-be44f5088959', ...)]"
     ]
    },
    {
     "name": "stderr",
     "output_type": "stream",
     "text": [
      "\n"
     ]
    },
    {
     "name": "stderr",
     "output_type": "stream",
     "text": [
      "ERROR:/Users/rorysie/Library/Python/3.5/lib/python/site-packages/bokeh/core/validation/check.py:E-1001 (BAD_COLUMN_NAME): Glyph refers to nonexistent column name: r. [renderer: GlyphRenderer(id='46582239-1e34-42fa-b95d-33a851d27e55', ...)]\n"
     ]
    },
    {
     "name": "stderr",
     "output_type": "stream",
     "text": [
      "ERROR:/Users/rorysie/Library/Python/3.5/lib/python/site-packages/bokeh/core/validation/check.py:E-1001 (BAD_COLUMN_NAME): Glyph refers to nonexistent column name: r. [renderer: GlyphRenderer(id='4c15dc74-2990-4f31-afd9-d27bb8b3ec46', ...)]\n"
     ]
    },
    {
     "name": "stderr",
     "output_type": "stream",
     "text": [
      "ERROR:/Users/rorysie/Library/Python/3.5/lib/python/site-packages/bokeh/core/validation/check.py:E-1001 (BAD_COLUMN_NAME): Glyph refers to nonexistent column name: r. [renderer: GlyphRenderer(id='5227e4f1-3471-40c2-a25a-89ad74d6b5b3', ...)]\n"
     ]
    },
    {
     "name": "stderr",
     "output_type": "stream",
     "text": [
      "ERROR:/Users/rorysie/Library/Python/3.5/lib/python/site-packages/bokeh/core/validation/check.py:E-1001 (BAD_COLUMN_NAME): Glyph refers to nonexistent column name: r. [renderer: GlyphRenderer(id='582c32f8-472a-4713-8af8-3a9b53b595ea', ...)]"
     ]
    },
    {
     "name": "stderr",
     "output_type": "stream",
     "text": [
      "\n"
     ]
    },
    {
     "name": "stderr",
     "output_type": "stream",
     "text": [
      "ERROR:/Users/rorysie/Library/Python/3.5/lib/python/site-packages/bokeh/core/validation/check.py:E-1001 (BAD_COLUMN_NAME): Glyph refers to nonexistent column name: r. [renderer: GlyphRenderer(id='59aa4bd7-06c8-453e-b251-6230bcdf640f', ...)]\n"
     ]
    },
    {
     "name": "stderr",
     "output_type": "stream",
     "text": [
      "ERROR:/Users/rorysie/Library/Python/3.5/lib/python/site-packages/bokeh/core/validation/check.py:E-1001 (BAD_COLUMN_NAME): Glyph refers to nonexistent column name: r. [renderer: GlyphRenderer(id='62c0fef5-034e-4ed7-beff-8b4aebfd6fab', ...)]\n"
     ]
    },
    {
     "name": "stderr",
     "output_type": "stream",
     "text": [
      "ERROR:/Users/rorysie/Library/Python/3.5/lib/python/site-packages/bokeh/core/validation/check.py:E-1001 (BAD_COLUMN_NAME): Glyph refers to nonexistent column name: r. [renderer: GlyphRenderer(id='69ccd568-7320-408a-90b2-a845c919a584', ...)]\n"
     ]
    },
    {
     "name": "stderr",
     "output_type": "stream",
     "text": [
      "ERROR:/Users/rorysie/Library/Python/3.5/lib/python/site-packages/bokeh/core/validation/check.py:E-1001 (BAD_COLUMN_NAME): Glyph refers to nonexistent column name: r. [renderer: GlyphRenderer(id='79df8f6a-8d14-4c5e-adf1-836eac72c582', ...)]\n"
     ]
    },
    {
     "name": "stderr",
     "output_type": "stream",
     "text": [
      "ERROR:/Users/rorysie/Library/Python/3.5/lib/python/site-packages/bokeh/core/validation/check.py:E-1001 (BAD_COLUMN_NAME): Glyph refers to nonexistent column name: r. [renderer: GlyphRenderer(id='7a4b36c6-78db-4f7a-8c41-d5f72f1d6eb0', ...)]\n"
     ]
    },
    {
     "name": "stderr",
     "output_type": "stream",
     "text": [
      "ERROR:/Users/rorysie/Library/Python/3.5/lib/python/site-packages/bokeh/core/validation/check.py:E-1001 (BAD_COLUMN_NAME): Glyph refers to nonexistent column name: r. [renderer: GlyphRenderer(id='7eb23d93-5a3f-4c0b-997e-61d49e22320e', ...)]\n"
     ]
    },
    {
     "name": "stderr",
     "output_type": "stream",
     "text": [
      "ERROR:/Users/rorysie/Library/Python/3.5/lib/python/site-packages/bokeh/core/validation/check.py:E-1001 (BAD_COLUMN_NAME): Glyph refers to nonexistent column name: r. [renderer: GlyphRenderer(id='82d4f36c-e930-48a2-aa2e-f61c5004fcc6', ...)]\n"
     ]
    },
    {
     "name": "stderr",
     "output_type": "stream",
     "text": [
      "ERROR:/Users/rorysie/Library/Python/3.5/lib/python/site-packages/bokeh/core/validation/check.py:E-1001 (BAD_COLUMN_NAME): Glyph refers to nonexistent column name: r. [renderer: GlyphRenderer(id='8e7e7a5c-1099-42d9-a61b-28c979b99293', ...)]\n"
     ]
    },
    {
     "name": "stderr",
     "output_type": "stream",
     "text": [
      "ERROR:/Users/rorysie/Library/Python/3.5/lib/python/site-packages/bokeh/core/validation/check.py:E-1001 (BAD_COLUMN_NAME): Glyph refers to nonexistent column name: r. [renderer: GlyphRenderer(id='91827cf3-780f-4f04-bbc7-5e112f8e3576', ...)]\n"
     ]
    },
    {
     "name": "stderr",
     "output_type": "stream",
     "text": [
      "ERROR:/Users/rorysie/Library/Python/3.5/lib/python/site-packages/bokeh/core/validation/check.py:E-1001 (BAD_COLUMN_NAME): Glyph refers to nonexistent column name: r. [renderer: GlyphRenderer(id='95474a04-8159-42fa-86f4-b5177487b05d', ...)]\n"
     ]
    },
    {
     "name": "stderr",
     "output_type": "stream",
     "text": [
      "ERROR:/Users/rorysie/Library/Python/3.5/lib/python/site-packages/bokeh/core/validation/check.py:E-1001 (BAD_COLUMN_NAME): Glyph refers to nonexistent column name: r. [renderer: GlyphRenderer(id='9bb710dd-7992-474a-9a54-6aaf2839dd39', ...)]\n"
     ]
    },
    {
     "name": "stderr",
     "output_type": "stream",
     "text": [
      "ERROR:/Users/rorysie/Library/Python/3.5/lib/python/site-packages/bokeh/core/validation/check.py:E-1001 (BAD_COLUMN_NAME): Glyph refers to nonexistent column name: r. [renderer: GlyphRenderer(id='a8dd8372-99c1-44db-b922-a773d4ac22eb', ...)]\n"
     ]
    },
    {
     "name": "stderr",
     "output_type": "stream",
     "text": [
      "ERROR:/Users/rorysie/Library/Python/3.5/lib/python/site-packages/bokeh/core/validation/check.py:E-1001 (BAD_COLUMN_NAME): Glyph refers to nonexistent column name: r. [renderer: GlyphRenderer(id='ab151471-56a7-478e-a100-d133c00db757', ...)]\n"
     ]
    },
    {
     "name": "stderr",
     "output_type": "stream",
     "text": [
      "ERROR:/Users/rorysie/Library/Python/3.5/lib/python/site-packages/bokeh/core/validation/check.py:E-1001 (BAD_COLUMN_NAME): Glyph refers to nonexistent column name: r. [renderer: GlyphRenderer(id='b224c1d0-fb0c-4830-8de3-fdf5291b2c95', ...)]\n"
     ]
    },
    {
     "name": "stderr",
     "output_type": "stream",
     "text": [
      "ERROR:/Users/rorysie/Library/Python/3.5/lib/python/site-packages/bokeh/core/validation/check.py:E-1001 (BAD_COLUMN_NAME): Glyph refers to nonexistent column name: r. [renderer: GlyphRenderer(id='c08c56a1-f966-4901-9136-2ee1b2ed7423', ...)]\n"
     ]
    },
    {
     "name": "stderr",
     "output_type": "stream",
     "text": [
      "ERROR:/Users/rorysie/Library/Python/3.5/lib/python/site-packages/bokeh/core/validation/check.py:E-1001 (BAD_COLUMN_NAME): Glyph refers to nonexistent column name: r. [renderer: GlyphRenderer(id='c2bbe7a0-714c-4cf8-ac10-5197309e4f51', ...)]\n"
     ]
    },
    {
     "name": "stderr",
     "output_type": "stream",
     "text": [
      "ERROR:/Users/rorysie/Library/Python/3.5/lib/python/site-packages/bokeh/core/validation/check.py:E-1001 (BAD_COLUMN_NAME): Glyph refers to nonexistent column name: r. [renderer: GlyphRenderer(id='c9885eee-95be-4dd5-8988-4340d2a5e9ac', ...)]\n"
     ]
    },
    {
     "name": "stderr",
     "output_type": "stream",
     "text": [
      "ERROR:/Users/rorysie/Library/Python/3.5/lib/python/site-packages/bokeh/core/validation/check.py:E-1001 (BAD_COLUMN_NAME): Glyph refers to nonexistent column name: r. [renderer: GlyphRenderer(id='d34e8183-8739-4ca3-a7a0-66d0212474e3', ...)]"
     ]
    },
    {
     "name": "stderr",
     "output_type": "stream",
     "text": [
      "\n"
     ]
    },
    {
     "name": "stderr",
     "output_type": "stream",
     "text": [
      "ERROR:/Users/rorysie/Library/Python/3.5/lib/python/site-packages/bokeh/core/validation/check.py:E-1001 (BAD_COLUMN_NAME): Glyph refers to nonexistent column name: r. [renderer: GlyphRenderer(id='dc3dca74-c6fc-4439-9e9e-cb99e860361c', ...)]\n"
     ]
    },
    {
     "name": "stderr",
     "output_type": "stream",
     "text": [
      "ERROR:/Users/rorysie/Library/Python/3.5/lib/python/site-packages/bokeh/core/validation/check.py:E-1001 (BAD_COLUMN_NAME): Glyph refers to nonexistent column name: r. [renderer: GlyphRenderer(id='eedb7ebf-a231-405a-a568-f30e7ce3f8ed', ...)]\n"
     ]
    },
    {
     "name": "stderr",
     "output_type": "stream",
     "text": [
      "ERROR:/Users/rorysie/Library/Python/3.5/lib/python/site-packages/bokeh/core/validation/check.py:E-1001 (BAD_COLUMN_NAME): Glyph refers to nonexistent column name: r. [renderer: GlyphRenderer(id='f5d07a66-3b04-4416-a779-e2099097c377', ...)]\n"
     ]
    },
    {
     "name": "stderr",
     "output_type": "stream",
     "text": [
      "ERROR:/Users/rorysie/Library/Python/3.5/lib/python/site-packages/bokeh/core/validation/check.py:E-1001 (BAD_COLUMN_NAME): Glyph refers to nonexistent column name: r. [renderer: GlyphRenderer(id='f67275a6-30f2-41da-ac87-ccd9573e6cc0', ...)]\n"
     ]
    },
    {
     "name": "stderr",
     "output_type": "stream",
     "text": [
      "ERROR:/Users/rorysie/Library/Python/3.5/lib/python/site-packages/bokeh/core/validation/check.py:E-1001 (BAD_COLUMN_NAME): Glyph refers to nonexistent column name: r. [renderer: GlyphRenderer(id='f79db7dc-fcb9-4b02-af34-f7083c3f7c2a', ...)]\n"
     ]
    },
    {
     "name": "stderr",
     "output_type": "stream",
     "text": [
      "ERROR:/Users/rorysie/Library/Python/3.5/lib/python/site-packages/bokeh/core/validation/check.py:E-1001 (BAD_COLUMN_NAME): Glyph refers to nonexistent column name: r. [renderer: GlyphRenderer(id='fcb86789-ec05-4286-8520-bb13ac263dc4', ...)]\n"
     ]
    }
   ],
   "source": [
    "plot = figure(width=600, height=600)\n",
    "colors = inferno(3)\n",
    "for index in range(len(iris.data)):\n",
    "    if k_means.labels_[index] == 0:\n",
    "        plot.circle(x=iris.data[index, 0], y=iris.data[index, 1], size=6, fill_color=colors[0])\n",
    "    elif k_means.labels_[index] == 1:\n",
    "        plot.circle(x=iris.data[index, 0], y=iris.data[index, 1], size=6, fill_color=colors[1])\n",
    "    else:\n",
    "        plot.circle(x=iris.data[index, 0], y=iris.data[index, 1], size=6, fill_color=colors[2])\n",
    "\n",
    "show(plot)"
   ]
  },
  {
   "cell_type": "code",
   "execution_count": null,
   "metadata": {},
   "outputs": [],
   "source": [
    ""
   ]
  }
 ],
 "metadata": {
  "kernelspec": {
   "display_name": "Python 2",
   "language": "python",
   "name": "python2"
  },
  "language_info": {
   "codemirror_mode": {
    "name": "ipython",
    "version": 2.0
   },
   "file_extension": ".py",
   "mimetype": "text/x-python",
   "name": "python",
   "nbconvert_exporter": "python",
   "pygments_lexer": "ipython2",
   "version": "2.7.6"
  }
 },
 "nbformat": 4,
 "nbformat_minor": 0
}
