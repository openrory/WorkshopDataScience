{
 "cells": [
  {
   "cell_type": "markdown",
   "metadata": {
    "collapsed": true
   },
   "source": [
    "# Pandas voorbeeld"
   ]
  },
  {
   "cell_type": "markdown",
   "metadata": {},
   "source": [
    "importeer de juiste modules"
   ]
  },
  {
   "cell_type": "code",
   "execution_count": 26,
   "metadata": {},
   "outputs": [],
   "source": [
    "import numpy as np\n",
    "import pandas as pd"
   ]
  },
  {
   "cell_type": "markdown",
   "metadata": {},
   "source": [
    "open het bestand wie_ben_jij.csv"
   ]
  },
  {
   "cell_type": "code",
   "execution_count": 27,
   "metadata": {},
   "outputs": [],
   "source": [
    "data = pd.read_csv(\"files/wie_ben_jij.csv\")"
   ]
  },
  {
   "cell_type": "markdown",
   "metadata": {},
   "source": [
    "Bekijk het eerste deel van de data"
   ]
  },
  {
   "cell_type": "code",
   "execution_count": 28,
   "metadata": {},
   "outputs": [
    {
     "data": {
      "text/html": [
       "<div>\n",
       "<table border=\"1\" class=\"dataframe\">\n",
       "  <thead>\n",
       "    <tr style=\"text-align: right;\">\n",
       "      <th></th>\n",
       "      <th>Unnamed: 0</th>\n",
       "      <th>Timestamp</th>\n",
       "      <th>Wat is je vooropleiding?</th>\n",
       "      <th>Waar woon je nu?</th>\n",
       "      <th>Ik heb voor deze studie gekozen, omdat...</th>\n",
       "      <th>Kies de TV-/internetserie die jou het meest aanspreekt.</th>\n",
       "      <th>Kies de hobby die jou het meest aanspreekt.</th>\n",
       "      <th>Star...?</th>\n",
       "      <th>Hoe zou jij HBO-ICT het liefst willen toepassen?</th>\n",
       "      <th>Kies de computergame die jou het meest aanspreekt.</th>\n",
       "      <th>...</th>\n",
       "      <th>Ik denk dat ik Python vaak zou willen gebruiken.</th>\n",
       "      <th>Ik vond de opdrachten onnodig complex.</th>\n",
       "      <th>Ik vond Python makkelijk te programmeren</th>\n",
       "      <th>Ik denk dat ik veel hulp van een docent/studentassistent nodig zal hebben als ik Python ga programmeren.</th>\n",
       "      <th>De opdrachten vertoonden veel samenhang.</th>\n",
       "      <th>De opdrachten waren inconsistent.</th>\n",
       "      <th>Ik kan me voorstellen dat de meeste mensen snel leren programmeren in Python</th>\n",
       "      <th>Ik vond de opdrachten erg lastig</th>\n",
       "      <th>Ik voelde me erg zelfverzekerd tijdens het maken van de opdrachten</th>\n",
       "      <th>Ik moest eerst veel leren voordat ik de opdrachten kon maken.</th>\n",
       "    </tr>\n",
       "  </thead>\n",
       "  <tbody>\n",
       "    <tr>\n",
       "      <th>0</th>\n",
       "      <td>0</td>\n",
       "      <td>4/7/2015 14:01:29</td>\n",
       "      <td>MBO</td>\n",
       "      <td>Utrecht</td>\n",
       "      <td>...deze mij het meest werd geadviseerd.</td>\n",
       "      <td>Game of Thrones</td>\n",
       "      <td>Actieve sport</td>\n",
       "      <td>Stark Industries</td>\n",
       "      <td>Een vernieuwingsproces analyseren op overbodig...</td>\n",
       "      <td>World of Warcraft / League of Legends</td>\n",
       "      <td>...</td>\n",
       "      <td>3</td>\n",
       "      <td>3</td>\n",
       "      <td>1</td>\n",
       "      <td>4</td>\n",
       "      <td>4</td>\n",
       "      <td>3</td>\n",
       "      <td>2</td>\n",
       "      <td>5</td>\n",
       "      <td>2</td>\n",
       "      <td>5</td>\n",
       "    </tr>\n",
       "    <tr>\n",
       "      <th>1</th>\n",
       "      <td>1</td>\n",
       "      <td>4/7/2015 14:16:13</td>\n",
       "      <td>Havo</td>\n",
       "      <td>Noord-Brabant</td>\n",
       "      <td>...deze mij het leukst leek.</td>\n",
       "      <td>Breaking Bad / Better Call Saul</td>\n",
       "      <td>Actieve sport</td>\n",
       "      <td>Starbucks</td>\n",
       "      <td>Een vernieuwingsproces analyseren op overbodig...</td>\n",
       "      <td>World of Warcraft / League of Legends</td>\n",
       "      <td>...</td>\n",
       "      <td>4</td>\n",
       "      <td>1</td>\n",
       "      <td>4</td>\n",
       "      <td>2</td>\n",
       "      <td>4</td>\n",
       "      <td>2</td>\n",
       "      <td>4</td>\n",
       "      <td>2</td>\n",
       "      <td>4</td>\n",
       "      <td>3</td>\n",
       "    </tr>\n",
       "    <tr>\n",
       "      <th>2</th>\n",
       "      <td>2</td>\n",
       "      <td>4/7/2015 14:17:16</td>\n",
       "      <td>MBO</td>\n",
       "      <td>Gelderland</td>\n",
       "      <td>...deze mij het leukst leek.</td>\n",
       "      <td>Naruto</td>\n",
       "      <td>Gamen</td>\n",
       "      <td>Star Wars</td>\n",
       "      <td>Het beschermen van cruciale bedrijfsnetwerken ...</td>\n",
       "      <td>World of Warcraft / League of Legends</td>\n",
       "      <td>...</td>\n",
       "      <td>4</td>\n",
       "      <td>2</td>\n",
       "      <td>4</td>\n",
       "      <td>4</td>\n",
       "      <td>2</td>\n",
       "      <td>2</td>\n",
       "      <td>3</td>\n",
       "      <td>3</td>\n",
       "      <td>4</td>\n",
       "      <td>2</td>\n",
       "    </tr>\n",
       "    <tr>\n",
       "      <th>3</th>\n",
       "      <td>3</td>\n",
       "      <td>4/7/2015 14:17:26</td>\n",
       "      <td>Havo</td>\n",
       "      <td>Noord-Holland</td>\n",
       "      <td>...deze mij het makkelijkst leek (ik ben goed ...</td>\n",
       "      <td>The Big Bang Theory</td>\n",
       "      <td>Gamen</td>\n",
       "      <td>Stark Industries</td>\n",
       "      <td>Drones over een rampgebied laten vliegen om te...</td>\n",
       "      <td>Call of Duty / Battlefield</td>\n",
       "      <td>...</td>\n",
       "      <td>4</td>\n",
       "      <td>3</td>\n",
       "      <td>4</td>\n",
       "      <td>2</td>\n",
       "      <td>4</td>\n",
       "      <td>3</td>\n",
       "      <td>4</td>\n",
       "      <td>1</td>\n",
       "      <td>5</td>\n",
       "      <td>3</td>\n",
       "    </tr>\n",
       "    <tr>\n",
       "      <th>4</th>\n",
       "      <td>4</td>\n",
       "      <td>4/7/2015 14:19:42</td>\n",
       "      <td>Ik heb de 21+ toets gedaan</td>\n",
       "      <td>Noord-Holland</td>\n",
       "      <td>...deze mij het leukst leek.</td>\n",
       "      <td>Breaking Bad / Better Call Saul</td>\n",
       "      <td>Actieve sport</td>\n",
       "      <td>Stark Industries</td>\n",
       "      <td>Data over reisvluchten en koopgedrag op een lu...</td>\n",
       "      <td>Grand Theft Auto</td>\n",
       "      <td>...</td>\n",
       "      <td>5</td>\n",
       "      <td>2</td>\n",
       "      <td>4</td>\n",
       "      <td>2</td>\n",
       "      <td>5</td>\n",
       "      <td>2</td>\n",
       "      <td>5</td>\n",
       "      <td>2</td>\n",
       "      <td>4</td>\n",
       "      <td>2</td>\n",
       "    </tr>\n",
       "  </tbody>\n",
       "</table>\n",
       "<p>5 rows × 26 columns</p>\n",
       "</div>"
      ],
      "text/plain": [
       "<div>\n",
       "<table border=\"1\" class=\"dataframe\">\n",
       "  <thead>\n",
       "    <tr style=\"text-align: right;\">\n",
       "      <th></th>\n",
       "      <th>Unnamed: 0</th>\n",
       "      <th>Timestamp</th>\n",
       "      <th>Wat is je vooropleiding?</th>\n",
       "      <th>Waar woon je nu?</th>\n",
       "      <th>Ik heb voor deze studie gekozen, omdat...</th>\n",
       "      <th>Kies de TV-/internetserie die jou het meest aanspreekt.</th>\n",
       "      <th>Kies de hobby die jou het meest aanspreekt.</th>\n",
       "      <th>Star...?</th>\n",
       "      <th>Hoe zou jij HBO-ICT het liefst willen toepassen?</th>\n",
       "      <th>Kies de computergame die jou het meest aanspreekt.</th>\n",
       "      <th>...</th>\n",
       "      <th>Ik denk dat ik Python vaak zou willen gebruiken.</th>\n",
       "      <th>Ik vond de opdrachten onnodig complex.</th>\n",
       "      <th>Ik vond Python makkelijk te programmeren</th>\n",
       "      <th>Ik denk dat ik veel hulp van een docent/studentassistent nodig zal hebben als ik Python ga programmeren.</th>\n",
       "      <th>De opdrachten vertoonden veel samenhang.</th>\n",
       "      <th>De opdrachten waren inconsistent.</th>\n",
       "      <th>Ik kan me voorstellen dat de meeste mensen snel leren programmeren in Python</th>\n",
       "      <th>Ik vond de opdrachten erg lastig</th>\n",
       "      <th>Ik voelde me erg zelfverzekerd tijdens het maken van de opdrachten</th>\n",
       "      <th>Ik moest eerst veel leren voordat ik de opdrachten kon maken.</th>\n",
       "    </tr>\n",
       "  </thead>\n",
       "  <tbody>\n",
       "    <tr>\n",
       "      <th>0</th>\n",
       "      <td>0</td>\n",
       "      <td>4/7/2015 14:01:29</td>\n",
       "      <td>MBO</td>\n",
       "      <td>Utrecht</td>\n",
       "      <td>...deze mij het meest werd geadviseerd.</td>\n",
       "      <td>Game of Thrones</td>\n",
       "      <td>Actieve sport</td>\n",
       "      <td>Stark Industries</td>\n",
       "      <td>Een vernieuwingsproces analyseren op overbodig...</td>\n",
       "      <td>World of Warcraft / League of Legends</td>\n",
       "      <td>...</td>\n",
       "      <td>3</td>\n",
       "      <td>3</td>\n",
       "      <td>1</td>\n",
       "      <td>4</td>\n",
       "      <td>4</td>\n",
       "      <td>3</td>\n",
       "      <td>2</td>\n",
       "      <td>5</td>\n",
       "      <td>2</td>\n",
       "      <td>5</td>\n",
       "    </tr>\n",
       "    <tr>\n",
       "      <th>1</th>\n",
       "      <td>1</td>\n",
       "      <td>4/7/2015 14:16:13</td>\n",
       "      <td>Havo</td>\n",
       "      <td>Noord-Brabant</td>\n",
       "      <td>...deze mij het leukst leek.</td>\n",
       "      <td>Breaking Bad / Better Call Saul</td>\n",
       "      <td>Actieve sport</td>\n",
       "      <td>Starbucks</td>\n",
       "      <td>Een vernieuwingsproces analyseren op overbodig...</td>\n",
       "      <td>World of Warcraft / League of Legends</td>\n",
       "      <td>...</td>\n",
       "      <td>4</td>\n",
       "      <td>1</td>\n",
       "      <td>4</td>\n",
       "      <td>2</td>\n",
       "      <td>4</td>\n",
       "      <td>2</td>\n",
       "      <td>4</td>\n",
       "      <td>2</td>\n",
       "      <td>4</td>\n",
       "      <td>3</td>\n",
       "    </tr>\n",
       "    <tr>\n",
       "      <th>2</th>\n",
       "      <td>2</td>\n",
       "      <td>4/7/2015 14:17:16</td>\n",
       "      <td>MBO</td>\n",
       "      <td>Gelderland</td>\n",
       "      <td>...deze mij het leukst leek.</td>\n",
       "      <td>Naruto</td>\n",
       "      <td>Gamen</td>\n",
       "      <td>Star Wars</td>\n",
       "      <td>Het beschermen van cruciale bedrijfsnetwerken ...</td>\n",
       "      <td>World of Warcraft / League of Legends</td>\n",
       "      <td>...</td>\n",
       "      <td>4</td>\n",
       "      <td>2</td>\n",
       "      <td>4</td>\n",
       "      <td>4</td>\n",
       "      <td>2</td>\n",
       "      <td>2</td>\n",
       "      <td>3</td>\n",
       "      <td>3</td>\n",
       "      <td>4</td>\n",
       "      <td>2</td>\n",
       "    </tr>\n",
       "    <tr>\n",
       "      <th>3</th>\n",
       "      <td>3</td>\n",
       "      <td>4/7/2015 14:17:26</td>\n",
       "      <td>Havo</td>\n",
       "      <td>Noord-Holland</td>\n",
       "      <td>...deze mij het makkelijkst leek (ik ben goed ...</td>\n",
       "      <td>The Big Bang Theory</td>\n",
       "      <td>Gamen</td>\n",
       "      <td>Stark Industries</td>\n",
       "      <td>Drones over een rampgebied laten vliegen om te...</td>\n",
       "      <td>Call of Duty / Battlefield</td>\n",
       "      <td>...</td>\n",
       "      <td>4</td>\n",
       "      <td>3</td>\n",
       "      <td>4</td>\n",
       "      <td>2</td>\n",
       "      <td>4</td>\n",
       "      <td>3</td>\n",
       "      <td>4</td>\n",
       "      <td>1</td>\n",
       "      <td>5</td>\n",
       "      <td>3</td>\n",
       "    </tr>\n",
       "    <tr>\n",
       "      <th>4</th>\n",
       "      <td>4</td>\n",
       "      <td>4/7/2015 14:19:42</td>\n",
       "      <td>Ik heb de 21+ toets gedaan</td>\n",
       "      <td>Noord-Holland</td>\n",
       "      <td>...deze mij het leukst leek.</td>\n",
       "      <td>Breaking Bad / Better Call Saul</td>\n",
       "      <td>Actieve sport</td>\n",
       "      <td>Stark Industries</td>\n",
       "      <td>Data over reisvluchten en koopgedrag op een lu...</td>\n",
       "      <td>Grand Theft Auto</td>\n",
       "      <td>...</td>\n",
       "      <td>5</td>\n",
       "      <td>2</td>\n",
       "      <td>4</td>\n",
       "      <td>2</td>\n",
       "      <td>5</td>\n",
       "      <td>2</td>\n",
       "      <td>5</td>\n",
       "      <td>2</td>\n",
       "      <td>4</td>\n",
       "      <td>2</td>\n",
       "    </tr>\n",
       "  </tbody>\n",
       "</table>\n",
       "<p>5 rows × 26 columns</p>\n",
       "</div>"
      ]
     },
     "execution_count": 27,
     "metadata": {},
     "output_type": "execute_result"
    }
   ],
   "source": [
    "data.head()"
   ]
  },
  {
   "cell_type": "markdown",
   "metadata": {},
   "source": [
    "Wat voor type is dit?"
   ]
  },
  {
   "cell_type": "code",
   "execution_count": 29,
   "metadata": {},
   "outputs": [
    {
     "data": {
      "text/plain": [
       "pandas.core.frame.DataFrame"
      ]
     },
     "execution_count": 28,
     "metadata": {},
     "output_type": "execute_result"
    }
   ],
   "source": [
    "type(data)"
   ]
  },
  {
   "cell_type": "markdown",
   "metadata": {},
   "source": [
    "Neem alleen de kolom met \"Wat is je vooropleiding?\""
   ]
  },
  {
   "cell_type": "code",
   "execution_count": 30,
   "metadata": {},
   "outputs": [
    {
     "data": {
      "text/plain": [
       "0                             MBO\n1                            Havo\n2                             MBO\n3                            Havo\n4      Ik heb de 21+ toets gedaan\n5                             MBO\n6                             VWO\n7                             VWO\n8                            Havo\n9                            Havo\n10                           Havo\n11                            MBO\n12                           Havo\n13                            MBO\n14                           Havo\n15                           Havo\n16     Ik heb de 21+ toets gedaan\n17                           Havo\n18                            MBO\n19                            MBO\n20                           Havo\n21                            MBO\n22        21+ gedaan, Duits HAVO.\n23                            MBO\n24                           Havo\n25                            MBO\n26                           Havo\n27                           Havo\n28                            MBO\n29                           Havo\n                  ...            \n322                          Havo\n323                          Havo\n324                          Havo\n325                          Havo\n326                          Havo\n327                           MBO\n328                          Havo\n329                           MBO\n330                          Havo\n331                          Havo\n332                          Havo\n333                          Havo\n334                           BIM\n335                           MBO\n336                           VWO\n337                           MBO\n338                          Havo\n339                          Havo\n340                          Havo\n341                          Havo\n342                           MBO\n343                           MBO\n344                          Havo\n345                          Havo\n346                          Havo\n347                    Ho-schakel\n348                HU Informatica\n349                          Havo\n350                          Havo\n351                          Havo\nName: Wat is je vooropleiding?, dtype: object"
      ]
     },
     "execution_count": 29,
     "metadata": {},
     "output_type": "execute_result"
    }
   ],
   "source": [
    "data[\"Wat is je vooropleiding?\"]"
   ]
  },
  {
   "cell_type": "markdown",
   "metadata": {},
   "source": [
    "\n",
    "Wat is het datatype van data[\"Wat is je vooropleiding?\"]?\n"
   ]
  },
  {
   "cell_type": "code",
   "execution_count": 31,
   "metadata": {},
   "outputs": [
    {
     "data": {
      "text/plain": [
       "pandas.core.series.Series"
      ]
     },
     "execution_count": 30,
     "metadata": {},
     "output_type": "execute_result"
    }
   ],
   "source": [
    "type(data[\"Wat is je vooropleiding?\"])"
   ]
  },
  {
   "cell_type": "code",
   "execution_count": 32,
   "metadata": {},
   "outputs": [
    {
     "data": {
      "text/plain": [
       "count      352\nunique      18\ntop       Havo\nfreq       187\nName: Wat is je vooropleiding?, dtype: object"
      ]
     },
     "execution_count": 31,
     "metadata": {},
     "output_type": "execute_result"
    }
   ],
   "source": [
    "data[\"Wat is je vooropleiding?\"].describe()"
   ]
  },
  {
   "cell_type": "markdown",
   "metadata": {},
   "source": [
    "Je kunt ook alle waarden opvragen door .values aan te roepen."
   ]
  },
  {
   "cell_type": "code",
   "execution_count": 33,
   "metadata": {},
   "outputs": [
    {
     "data": {
      "text/plain": [
       "array(['MBO', 'Havo', 'MBO', 'Havo', 'Ik heb de 21+ toets gedaan', 'MBO',\n       'VWO', 'VWO', 'Havo', 'Havo', 'Havo', 'MBO', 'Havo', 'MBO', 'Havo',\n       'Havo', 'Ik heb de 21+ toets gedaan', 'Havo', 'MBO', 'MBO', 'Havo',\n       'MBO', '21+ gedaan, Duits HAVO.', 'MBO', 'Havo', 'MBO', 'Havo',\n       'Havo', 'MBO', 'Havo', 'MBO', 'MBO', 'MBO', 'MBO', 'Havo', 'Havo',\n       'MBO', 'MBO', 'MBO', 'MBO', 'Havo', 'Ik heb de 21+ toets gedaan',\n       'MBO', 'MBO', 'Havo', 'Havo', 'MBO', 'Havo', 'Havo', 'Havo', 'VWO',\n       'Havo', 'Havo', 'MBO', 'Havo', 'Havo', 'MBO', 'Havo', 'MBO', 'Havo',\n       'MBO', 'Havo', 'MBO', 'Havo', 'VWO', 'MBO', 'Havo', 'MBO', 'MBO',\n       'MBO', 'MBO', 'Havo', 'MBO', 'Havo', 'MBO', 'MBO', 'Havo', 'Havo',\n       'VWO en 3 jaar Optometrie', 'Havo', 'MBO', 'Havo', 'niet bekend',\n       'MBO', 'VWO', 'Havo', 'Havo', 'Havo', 'MBO', 'MBO', 'Havo', 'MBO',\n       'Havo', 'MBO', 'VWO', 'Havo', 'MBO', 'MBO', 'MBO', 'MBO', 'MBO',\n       'Havo', 'Havo', 'MBO', 'Havo', 'Havo', 'Havo', 'Havo', 'MBO',\n       'Havo', 'Havo', 'MBO', 'MBO', 'Havo', 'Havo', 'Havo', 'HBO/HAVO',\n       'MBO', 'Havo', 'Havo', 'Havo', 'Havo', 'VWO', 'MBO', 'Havo', 'Havo',\n       'Havo', 'Havo', 'Havo', 'Havo gedaan, maar ook mijn MBO Niv 4 ',\n       'MBO', 'Havo', 'Havo', 'Havo', 'Havo', 'Havo', 'Havo', 'Havo',\n       'Havo', 'Havo', 'Havo', 'Havo', 'Havo',\n       'Ik heb de 21+ toets gedaan', 'MBO', 'Havo', 'Havo', 'MBO', 'MBO',\n       'MBO', 'Havo', 'MBO', 'Havo', 'MBO',\n       'MBO 4 Multimedia paar jaar terug afgerond', 'VWO', 'MBO', 'Havo',\n       'MBO', 'MBO', 'Havo', 'MBO', 'Havo', 'MBO', 'Havo', 'MBO', 'MBO',\n       'MBO', 'Havo', 'Havo', 'Havo', 'Havo', 'Havo', 'Havo', 'MBO',\n       'Havo', 'Havo', 'Havo', 'Havo', 'Havo', 'MBO ICT beheerder', 'Havo',\n       'Havo', 'VWO', 'MBO', 'MBO', 'Havo', 'MBO', 'Havo', 'VWO',\n       'Ik heb de 21+ toets gedaan', 'Havo', 'Havo', 'Havo', 'Havo',\n       'Havo', 'MBO', 'MBO', 'Havo', 'MBO', 'Havo', 'Havo', 'MBO', 'Havo',\n       'MBO', 'MBO', 'Havo', 'Havo', 'Havo', 'Havo', 'MBO', 'MBO', 'MBO',\n       'Havo', 'MBO', 'Ik heb de 21+ toets gedaan', 'Havo', 'Havo', 'MBO',\n       'VWO', 'MBO', 'Havo', 'Havo', 'Havo', 'Havo', 'MBO', 'MBO', 'MBO',\n       'Havo', 'Havo', 'Havo', 'MBO', 'Havo', 'Havo', 'MBO', 'MBO', 'Havo',\n       'Havo', 'Havo', 'Havo', 'Havo', 'Havo', 'Havo', 'Havo', 'MBO',\n       'Havo', 'MBO4 en HAVO', 'MBO', 'MBO', 'HBO Schakeljaar', 'Havo',\n       'MBO', 'Ik heb de 21+ toets gedaan', 'MBO', 'MBO', 'Havo', 'MBO',\n       'MBO', 'Havo', 'Havo', 'Havo', 'Havo', 'VWO', 'MBO', 'Havo', 'Havo',\n       'Havo', 'Havo', 'Havo', 'Havo', 'Havo', 'MBO', 'MBO', 'Havo',\n       'Economie aan Aleppo Universiteit maar niet afgerond', 'MBO',\n       'Havo', 'Havo', 'MBO', 'Havo', 'MBO', 'MBO', 'Havo', 'MBO', 'MBO',\n       'Havo', 'Havo', 'Havo', 'Havo', 'MBO', 'Havo', 'Havo', 'Havo',\n       'MBO', 'MBO', 'Havo', 'VWO', 'VWO', 'VWO', 'Havo', 'Havo', 'VWO',\n       'Havo', 'VWO', 'MBO', 'MBO', 'MBO', 'MBO', 'Havo', 'HBO', 'HBO',\n       'Ik heb de 21+ toets gedaan', 'Havo', 'MBO', 'MBO', 'Havo', 'Havo',\n       'Havo', 'VWO', 'HBO', 'Havo', 'MBO', 'Havo', 'Havo', 'Havo', 'Havo',\n       'Havo', 'MBO', 'Havo', 'MBO', 'Havo', 'Havo', 'Havo', 'Havo', 'BIM',\n       'MBO', 'VWO', 'MBO', 'Havo', 'Havo', 'Havo', 'Havo', 'MBO', 'MBO',\n       'Havo', 'Havo', 'Havo', 'Ho-schakel', 'HU Informatica', 'Havo',\n       'Havo', 'Havo'], dtype=object)"
      ]
     },
     "execution_count": 32,
     "metadata": {},
     "output_type": "execute_result"
    }
   ],
   "source": [
    "data[\"Wat is je vooropleiding?\"].values"
   ]
  },
  {
   "cell_type": "markdown",
   "metadata": {},
   "source": [
    "Als je daar dan type() op aanroept, dan zul je zien dat het numpy.ndarray is. Dat komt doordat de onderliggende structuur van een pandas Series een NumPy array is. Let op, want sommige functies/methodes werken alleen op DataFrames, Series, of arrays."
   ]
  },
  {
   "cell_type": "code",
   "execution_count": 34,
   "metadata": {},
   "outputs": [
    {
     "data": {
      "text/plain": [
       "numpy.ndarray"
      ]
     },
     "execution_count": 33,
     "metadata": {},
     "output_type": "execute_result"
    }
   ],
   "source": [
    "type(data[\"Wat is je vooropleiding?\"].values)"
   ]
  },
  {
   "cell_type": "markdown",
   "metadata": {},
   "source": [
    "Bekijk nu de datatypes van alle kolommen."
   ]
  },
  {
   "cell_type": "code",
   "execution_count": 35,
   "metadata": {},
   "outputs": [
    {
     "data": {
      "text/plain": [
       "Unnamed: 0                                                                                                   int64\nTimestamp                                                                                                   object\nWat is je vooropleiding?                                                                                    object\nWaar woon je nu?                                                                                            object\nIk heb voor deze studie gekozen, omdat...                                                                   object\nKies de TV-/internetserie die jou het meest aanspreekt.                                                     object\nKies de hobby die jou het meest aanspreekt.                                                                 object\nStar...?                                                                                                    object\nHoe zou jij HBO-ICT het liefst willen toepassen?                                                            object\nKies de computergame die jou het meest aanspreekt.                                                          object\nKies de superheld die jou het meest aanspreekt.                                                             object\nAls je een huisdier zou mogen kiezen, welke zou dat dan zijn?                                               object\nKies het Operating System dat jou het meest aanspreekt.                                                     object\nIk had mijn huiswerk goed voorbereid.                                                                        int64\nAls je voor opdracht A hebt gekozen: Had je pen en papier meegenomen?                                       object\nWelke opdracht heb je gekozen?                                                                              object\nIk denk dat ik Python vaak zou willen gebruiken.                                                             int64\nIk vond de opdrachten onnodig complex.                                                                       int64\nIk vond Python makkelijk te programmeren                                                                     int64\nIk denk dat ik veel hulp van een docent/studentassistent nodig zal hebben als ik Python ga programmeren.     int64\nDe opdrachten vertoonden veel samenhang.                                                                     int64\nDe opdrachten waren inconsistent.                                                                            int64\nIk kan me voorstellen dat de meeste mensen snel leren programmeren in Python                                 int64\nIk vond de opdrachten erg lastig                                                                             int64\nIk voelde me erg zelfverzekerd tijdens het maken van de opdrachten                                           int64\nIk moest eerst veel leren voordat ik de opdrachten kon maken.                                                int64\ndtype: object"
      ]
     },
     "execution_count": 34,
     "metadata": {},
     "output_type": "execute_result"
    }
   ],
   "source": [
    "data.dtypes"
   ]
  },
  {
   "cell_type": "markdown",
   "metadata": {},
   "source": [
    "Zoek of er missing values zijn door middel van pd.isnull(). Dit geeft een Series terug met alle row indices die voldoen aan het criterium. "
   ]
  },
  {
   "cell_type": "code",
   "execution_count": 36,
   "metadata": {},
   "outputs": [
    {
     "data": {
      "text/plain": [
       "0      False\n1      False\n2      False\n3      False\n4      False\n5      False\n6      False\n7      False\n8      False\n9      False\n10     False\n11     False\n12     False\n13     False\n14     False\n15     False\n16     False\n17     False\n18     False\n19     False\n20     False\n21     False\n22     False\n23     False\n24     False\n25     False\n26     False\n27     False\n28     False\n29     False\n       ...  \n322    False\n323    False\n324    False\n325    False\n326    False\n327    False\n328    False\n329    False\n330    False\n331    False\n332    False\n333    False\n334    False\n335    False\n336    False\n337    False\n338    False\n339    False\n340    False\n341    False\n342    False\n343    False\n344    False\n345    False\n346    False\n347    False\n348    False\n349    False\n350    False\n351    False\nName: Wat is je vooropleiding?, dtype: bool"
      ]
     },
     "execution_count": 35,
     "metadata": {},
     "output_type": "execute_result"
    }
   ],
   "source": [
    "pd.isnull(data[\"Wat is je vooropleiding?\"])"
   ]
  },
  {
   "cell_type": "markdown",
   "metadata": {},
   "source": [
    "Als je data[pd.isnull()] doet, dan krijg je dus een DataFrame met alle rows die aan het criterium voldoen. Die zou je eventueel weer kunnen opvullen met -1 of 'NaN' of iets dergelijks. Daarover later meer."
   ]
  },
  {
   "cell_type": "code",
   "execution_count": 37,
   "metadata": {},
   "outputs": [
    {
     "data": {
      "text/html": [
       "<div>\n",
       "<table border=\"1\" class=\"dataframe\">\n",
       "  <thead>\n",
       "    <tr style=\"text-align: right;\">\n",
       "      <th></th>\n",
       "      <th>Unnamed: 0</th>\n",
       "      <th>Timestamp</th>\n",
       "      <th>Wat is je vooropleiding?</th>\n",
       "      <th>Waar woon je nu?</th>\n",
       "      <th>Ik heb voor deze studie gekozen, omdat...</th>\n",
       "      <th>Kies de TV-/internetserie die jou het meest aanspreekt.</th>\n",
       "      <th>Kies de hobby die jou het meest aanspreekt.</th>\n",
       "      <th>Star...?</th>\n",
       "      <th>Hoe zou jij HBO-ICT het liefst willen toepassen?</th>\n",
       "      <th>Kies de computergame die jou het meest aanspreekt.</th>\n",
       "      <th>...</th>\n",
       "      <th>Ik denk dat ik Python vaak zou willen gebruiken.</th>\n",
       "      <th>Ik vond de opdrachten onnodig complex.</th>\n",
       "      <th>Ik vond Python makkelijk te programmeren</th>\n",
       "      <th>Ik denk dat ik veel hulp van een docent/studentassistent nodig zal hebben als ik Python ga programmeren.</th>\n",
       "      <th>De opdrachten vertoonden veel samenhang.</th>\n",
       "      <th>De opdrachten waren inconsistent.</th>\n",
       "      <th>Ik kan me voorstellen dat de meeste mensen snel leren programmeren in Python</th>\n",
       "      <th>Ik vond de opdrachten erg lastig</th>\n",
       "      <th>Ik voelde me erg zelfverzekerd tijdens het maken van de opdrachten</th>\n",
       "      <th>Ik moest eerst veel leren voordat ik de opdrachten kon maken.</th>\n",
       "    </tr>\n",
       "  </thead>\n",
       "  <tbody>\n",
       "  </tbody>\n",
       "</table>\n",
       "<p>0 rows × 26 columns</p>\n",
       "</div>"
      ],
      "text/plain": [
       "<div>\n",
       "<table border=\"1\" class=\"dataframe\">\n",
       "  <thead>\n",
       "    <tr style=\"text-align: right;\">\n",
       "      <th></th>\n",
       "      <th>Unnamed: 0</th>\n",
       "      <th>Timestamp</th>\n",
       "      <th>Wat is je vooropleiding?</th>\n",
       "      <th>Waar woon je nu?</th>\n",
       "      <th>Ik heb voor deze studie gekozen, omdat...</th>\n",
       "      <th>Kies de TV-/internetserie die jou het meest aanspreekt.</th>\n",
       "      <th>Kies de hobby die jou het meest aanspreekt.</th>\n",
       "      <th>Star...?</th>\n",
       "      <th>Hoe zou jij HBO-ICT het liefst willen toepassen?</th>\n",
       "      <th>Kies de computergame die jou het meest aanspreekt.</th>\n",
       "      <th>...</th>\n",
       "      <th>Ik denk dat ik Python vaak zou willen gebruiken.</th>\n",
       "      <th>Ik vond de opdrachten onnodig complex.</th>\n",
       "      <th>Ik vond Python makkelijk te programmeren</th>\n",
       "      <th>Ik denk dat ik veel hulp van een docent/studentassistent nodig zal hebben als ik Python ga programmeren.</th>\n",
       "      <th>De opdrachten vertoonden veel samenhang.</th>\n",
       "      <th>De opdrachten waren inconsistent.</th>\n",
       "      <th>Ik kan me voorstellen dat de meeste mensen snel leren programmeren in Python</th>\n",
       "      <th>Ik vond de opdrachten erg lastig</th>\n",
       "      <th>Ik voelde me erg zelfverzekerd tijdens het maken van de opdrachten</th>\n",
       "      <th>Ik moest eerst veel leren voordat ik de opdrachten kon maken.</th>\n",
       "    </tr>\n",
       "  </thead>\n",
       "  <tbody>\n",
       "  </tbody>\n",
       "</table>\n",
       "<p>0 rows × 26 columns</p>\n",
       "</div>"
      ]
     },
     "execution_count": 36,
     "metadata": {},
     "output_type": "execute_result"
    }
   ],
   "source": [
    "data[pd.isnull(data[\"Wat is je vooropleiding?\"])]"
   ]
  },
  {
   "cell_type": "markdown",
   "metadata": {},
   "source": [
    "Neem nu de 3e regel uit de data"
   ]
  },
  {
   "cell_type": "code",
   "execution_count": 41,
   "metadata": {},
   "outputs": [
    {
     "data": {
      "text/plain": [
       "Unnamed: 0                                                                                                                                                  3\nTimestamp                                                                                                                                   4/7/2015 14:17:26\nWat is je vooropleiding?                                                                                                                                 Havo\nWaar woon je nu?                                                                                                                                Noord-Holland\nIk heb voor deze studie gekozen, omdat...                                                                   ...deze mij het makkelijkst leek (ik ben goed ...\nKies de TV-/internetserie die jou het meest aanspreekt.                                                                                   The Big Bang Theory\nKies de hobby die jou het meest aanspreekt.                                                                                                             Gamen\nStar...?                                                                                                                                     Stark Industries\nHoe zou jij HBO-ICT het liefst willen toepassen?                                                            Drones over een rampgebied laten vliegen om te...\nKies de computergame die jou het meest aanspreekt.                                                                                 Call of Duty / Battlefield\nKies de superheld die jou het meest aanspreekt.                                                                                                      Deadpool\nAls je een huisdier zou mogen kiezen, welke zou dat dan zijn?                                                                                          Mewtwo\nKies het Operating System dat jou het meest aanspreekt.                                                                                               Windows\nIk had mijn huiswerk goed voorbereid.                                                                                                                       5\nAls je voor opdracht A hebt gekozen: Had je pen en papier meegenomen?                                                                                     Nee\nWelke opdracht heb je gekozen?                                                                                                                     Opdracht B\nIk denk dat ik Python vaak zou willen gebruiken.                                                                                                            4\nIk vond de opdrachten onnodig complex.                                                                                                                      3\nIk vond Python makkelijk te programmeren                                                                                                                    4\nIk denk dat ik veel hulp van een docent/studentassistent nodig zal hebben als ik Python ga programmeren.                                                    2\nDe opdrachten vertoonden veel samenhang.                                                                                                                    4\nDe opdrachten waren inconsistent.                                                                                                                           3\nIk kan me voorstellen dat de meeste mensen snel leren programmeren in Python                                                                                4\nIk vond de opdrachten erg lastig                                                                                                                            1\nIk voelde me erg zelfverzekerd tijdens het maken van de opdrachten                                                                                          5\nIk moest eerst veel leren voordat ik de opdrachten kon maken.                                                                                               3\nName: 3, dtype: object"
      ]
     },
     "execution_count": 41,
     "metadata": {},
     "output_type": "execute_result"
    }
   ],
   "source": [
    "data.iloc[3]"
   ]
  },
  {
   "cell_type": "markdown",
   "metadata": {},
   "source": [
    "Neem nu de vooropleiding van de regel met index 3"
   ]
  },
  {
   "cell_type": "code",
   "execution_count": 42,
   "metadata": {},
   "outputs": [
    {
     "data": {
      "text/plain": [
       "'Havo'"
      ]
     },
     "execution_count": 42,
     "metadata": {},
     "output_type": "execute_result"
    }
   ],
   "source": [
    "data.iloc[3][\"Wat is je vooropleiding?\"]"
   ]
  },
  {
   "cell_type": "code",
   "execution_count": null,
   "metadata": {},
   "outputs": [],
   "source": [
    ""
   ]
  }
 ],
 "metadata": {
  "kernelspec": {
   "display_name": "Python 2",
   "language": "python",
   "name": "python2"
  },
  "language_info": {
   "codemirror_mode": {
    "name": "ipython",
    "version": 2.0
   },
   "file_extension": ".py",
   "mimetype": "text/x-python",
   "name": "python",
   "nbconvert_exporter": "python",
   "pygments_lexer": "ipython2",
   "version": "2.7.6"
  }
 },
 "nbformat": 4,
 "nbformat_minor": 0
}
